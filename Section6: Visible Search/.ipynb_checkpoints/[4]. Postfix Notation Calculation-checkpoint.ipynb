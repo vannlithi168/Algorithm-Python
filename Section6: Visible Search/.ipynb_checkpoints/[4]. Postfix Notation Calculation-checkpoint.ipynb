{
 "cells": [
  {
   "cell_type": "code",
   "execution_count": null,
   "id": "95c7f845",
   "metadata": {},
   "outputs": [],
   "source": [
    "def solve(X):\n",
    "    stack = []\n",
    "    for x in X:\n",
    "        if x.isdigit():\n",
    "            stack.append(int(x))\n",
    "        else:\n",
    "            b, a = stack.pop(), stack.pop()\n",
    "            if x == '+': stack.append(a+b)\n",
    "            elif x == '-': stack.append(a-b)\n",
    "            elif x == '*': stack.append(a * b)\n",
    "            elif x == '/': stack.append(a // b)\n",
    "    return stack[-1]\n",
    "\n",
    "X = input()\n",
    "print(solve(X))"
   ]
  }
 ],
 "metadata": {
  "kernelspec": {
   "display_name": "Python 3 (ipykernel)",
   "language": "python",
   "name": "python3"
  },
  "language_info": {
   "codemirror_mode": {
    "name": "ipython",
    "version": 3
   },
   "file_extension": ".py",
   "mimetype": "text/x-python",
   "name": "python",
   "nbconvert_exporter": "python",
   "pygments_lexer": "ipython3",
   "version": "3.10.9"
  }
 },
 "nbformat": 4,
 "nbformat_minor": 5
}
