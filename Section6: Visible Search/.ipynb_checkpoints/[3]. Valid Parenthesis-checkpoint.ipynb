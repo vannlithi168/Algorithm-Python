{
 "cells": [
  {
   "cell_type": "code",
   "execution_count": null,
   "id": "b369c3ce",
   "metadata": {},
   "outputs": [],
   "source": [
    "\n",
    "\n",
    "def solve(S):\n",
    "    opening = \"[{(\"\n",
    "    closing = \"]})\"\n",
    "    stack = []\n",
    "    fos s in S:\n",
    "        if s in opening:\n",
    "            stack.append(s)\n",
    "        elif stack and opening.index(stack[-1] == closing.index(s)):\n",
    "            stack.pop()\n",
    "        else:\n",
    "            return False\n",
    "    return len(stack) == 0\n",
    "\n",
    "S = input()\n",
    "print(\"Yes\" if solve(S) else \"No\")"
   ]
  },
  {
   "cell_type": "code",
   "execution_count": null,
   "id": "a5e39128",
   "metadata": {},
   "outputs": [],
   "source": [
    "def solve(cmd, stack):\n",
    "    if cmd[0] == \"push\":\n",
    "        stack.append(cmd[1])\n",
    "    elif cmd[0] == \"pop\":\n",
    "        print(\"Oops!\" if len(stack) == 0 else stack.pop())\n",
    "    elif cmd[0] == \"peek\":\n",
    "        print(\"None!\" if len(stack) == 0 else stack[-1])\n",
    "    elif cmd[0] == \"size\":\n",
    "        print(len(stack))\n",
    "    elif cmd[0] == \"empty\":\n",
    "        print(len(stack) == 0)\n",
    "        \n",
    "N = int(input())\n",
    "stack = []\n",
    "for _ in range(N):\n",
    "    cmd = input().split()\n",
    "    solve(cmd, stack)"
   ]
  }
 ],
 "metadata": {
  "kernelspec": {
   "display_name": "Python 3 (ipykernel)",
   "language": "python",
   "name": "python3"
  },
  "language_info": {
   "codemirror_mode": {
    "name": "ipython",
    "version": 3
   },
   "file_extension": ".py",
   "mimetype": "text/x-python",
   "name": "python",
   "nbconvert_exporter": "python",
   "pygments_lexer": "ipython3",
   "version": "3.10.9"
  }
 },
 "nbformat": 4,
 "nbformat_minor": 5
}
