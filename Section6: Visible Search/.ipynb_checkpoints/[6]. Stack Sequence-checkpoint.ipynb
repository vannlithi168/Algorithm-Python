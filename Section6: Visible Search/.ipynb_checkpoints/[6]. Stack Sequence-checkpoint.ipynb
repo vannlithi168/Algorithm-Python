{
 "cells": [
  {
   "cell_type": "code",
   "execution_count": 1,
   "id": "7fd9c43a",
   "metadata": {},
   "outputs": [
    {
     "name": "stdout",
     "output_type": "stream",
     "text": [
      "3\n",
      "3 2 1\n",
      "+++---\n"
     ]
    }
   ],
   "source": [
    "def solve(n, s):\n",
    "    stack, operation = [], \"\"\n",
    "    j = 0\n",
    "    for i in range(1, n + 1):\n",
    "        stack.append(i)\n",
    "        operation += '+'\n",
    "        while stack and s[j] == stack[-1]:\n",
    "            stack.pop()\n",
    "            operation += '-'\n",
    "            j += 1\n",
    "    return \"No\" if stack else operation\n",
    "\n",
    "N = int(input())\n",
    "S = list(map(int, input().split()))\n",
    "print(solve(N,S))"
   ]
  }
 ],
 "metadata": {
  "kernelspec": {
   "display_name": "Python 3 (ipykernel)",
   "language": "python",
   "name": "python3"
  },
  "language_info": {
   "codemirror_mode": {
    "name": "ipython",
    "version": 3
   },
   "file_extension": ".py",
   "mimetype": "text/x-python",
   "name": "python",
   "nbconvert_exporter": "python",
   "pygments_lexer": "ipython3",
   "version": "3.10.9"
  }
 },
 "nbformat": 4,
 "nbformat_minor": 5
}
