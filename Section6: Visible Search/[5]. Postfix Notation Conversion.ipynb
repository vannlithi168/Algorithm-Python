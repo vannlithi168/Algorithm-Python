{
 "cells": [
  {
   "cell_type": "code",
   "execution_count": 1,
   "id": "03e5aeba",
   "metadata": {},
   "outputs": [
    {
     "name": "stdout",
     "output_type": "stream",
     "text": [
      "a+b*c\n",
      "abc*+\n"
     ]
    }
   ],
   "source": [
    "precedence = {'(':0, ')':1, '+':2, '-':2, '*':3, '/':3}\n",
    "\n",
    "def solve(X):\n",
    "    stack, postfix = [], \"\"\n",
    "    for x in X:\n",
    "        if x.isalpha(): postfix += x\n",
    "        elif x == '(': stack.append(x)\n",
    "        else:\n",
    "            while stack and precedence[x] <= precedence[stack[-1]]:\n",
    "                postfix += stack.pop()\n",
    "            if x == ')': stack.pop()\n",
    "            else: stack.append(x)\n",
    "    while stack:\n",
    "        postfix += stack.pop()\n",
    "    return postfix\n",
    "\n",
    "X = input()\n",
    "print(solve(X))"
   ]
  },
  {
   "cell_type": "code",
   "execution_count": null,
   "id": "212e1b7e",
   "metadata": {},
   "outputs": [],
   "source": []
  },
  {
   "cell_type": "code",
   "execution_count": null,
   "id": "15bcf585",
   "metadata": {},
   "outputs": [],
   "source": []
  }
 ],
 "metadata": {
  "kernelspec": {
   "display_name": "Python 3 (ipykernel)",
   "language": "python",
   "name": "python3"
  },
  "language_info": {
   "codemirror_mode": {
    "name": "ipython",
    "version": 3
   },
   "file_extension": ".py",
   "mimetype": "text/x-python",
   "name": "python",
   "nbconvert_exporter": "python",
   "pygments_lexer": "ipython3",
   "version": "3.10.9"
  }
 },
 "nbformat": 4,
 "nbformat_minor": 5
}
