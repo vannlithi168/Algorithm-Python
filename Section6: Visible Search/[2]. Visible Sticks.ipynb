{
 "cells": [
  {
   "cell_type": "code",
   "execution_count": null,
   "id": "50d3c7dc",
   "metadata": {},
   "outputs": [],
   "source": [
    "from stack import stack\n",
    "\n",
    "def solve(n, s):\n",
    "    stack = Stack()\n",
    "    for i in range(n):\n",
    "        while not stack.empty() and s[i] >= stack.peek():\n",
    "            stack.pop()\n",
    "        stack.push(s[i])\n",
    "    return stack.size()\n",
    "\n",
    "N = int(input())\n",
    "S = list(map(int, input().split()))\n",
    "print(solve(N, S))"
   ]
  }
 ],
 "metadata": {
  "kernelspec": {
   "display_name": "Python 3 (ipykernel)",
   "language": "python",
   "name": "python3"
  },
  "language_info": {
   "codemirror_mode": {
    "name": "ipython",
    "version": 3
   },
   "file_extension": ".py",
   "mimetype": "text/x-python",
   "name": "python",
   "nbconvert_exporter": "python",
   "pygments_lexer": "ipython3",
   "version": "3.10.9"
  }
 },
 "nbformat": 4,
 "nbformat_minor": 5
}
