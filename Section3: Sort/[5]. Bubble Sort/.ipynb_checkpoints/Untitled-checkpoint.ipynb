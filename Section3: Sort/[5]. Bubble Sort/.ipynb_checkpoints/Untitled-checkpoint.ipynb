{
 "cells": [
  {
   "cell_type": "code",
   "execution_count": 2,
   "id": "def90540",
   "metadata": {},
   "outputs": [
    {
     "name": "stdout",
     "output_type": "stream",
     "text": [
      "7\n",
      "50 40 70 10 30 20 60\n",
      "12\n"
     ]
    }
   ],
   "source": [
    "def bubblesort(n, s):\n",
    "    cnt = 0\n",
    "    for i in range(n - 1):\n",
    "        for j in range(n - 1 - i):\n",
    "            if s[j] > s[j + 1]:\n",
    "                s[j], s[j + 1] = s[j + 1], s[j] #swap\n",
    "                cnt += 1 \n",
    "    return cnt\n",
    "\n",
    "N = int(input())\n",
    "S = list(map(int, input().split()))\n",
    "print(bubblesort(N, S))"
   ]
  }
 ],
 "metadata": {
  "kernelspec": {
   "display_name": "Python 3 (ipykernel)",
   "language": "python",
   "name": "python3"
  },
  "language_info": {
   "codemirror_mode": {
    "name": "ipython",
    "version": 3
   },
   "file_extension": ".py",
   "mimetype": "text/x-python",
   "name": "python",
   "nbconvert_exporter": "python",
   "pygments_lexer": "ipython3",
   "version": "3.10.9"
  }
 },
 "nbformat": 4,
 "nbformat_minor": 5
}
