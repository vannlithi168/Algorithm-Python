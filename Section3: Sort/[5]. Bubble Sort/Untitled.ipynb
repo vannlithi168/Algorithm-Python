{
 "cells": [
  {
   "cell_type": "code",
   "execution_count": 3,
   "id": "612ce064",
   "metadata": {},
   "outputs": [
    {
     "name": "stdout",
     "output_type": "stream",
     "text": [
      "7\n",
      "50 40 70 10 30 20 60\n",
      "[40, 50, 10, 30, 20, 60, 70] 5\n",
      "[40, 10, 30, 20, 50, 60, 70] 8\n",
      "[10, 30, 20, 40, 50, 60, 70] 11\n",
      "[10, 20, 30, 40, 50, 60, 70] 12\n",
      "[10, 20, 30, 40, 50, 60, 70] 12\n",
      "[10, 20, 30, 40, 50, 60, 70] 12\n",
      "12\n"
     ]
    }
   ],
   "source": [
    "def bubblesort(n, s):\n",
    "    cnt = 0\n",
    "    for i in range(n - 1):\n",
    "        for j in range(n - 1 - i):\n",
    "            if s[j] > s[j + 1]:\n",
    "                s[j], s[j + 1] = s[j + 1], s[j] #swap\n",
    "                cnt += 1 \n",
    "        print(s, cnt)\n",
    "    return cnt\n",
    "\n",
    "N = int(input())\n",
    "S = list(map(int, input().split()))\n",
    "print(bubblesort(N, S))"
   ]
  }
 ],
 "metadata": {
  "kernelspec": {
   "display_name": "Python 3 (ipykernel)",
   "language": "python",
   "name": "python3"
  },
  "language_info": {
   "codemirror_mode": {
    "name": "ipython",
    "version": 3
   },
   "file_extension": ".py",
   "mimetype": "text/x-python",
   "name": "python",
   "nbconvert_exporter": "python",
   "pygments_lexer": "ipython3",
   "version": "3.10.9"
  }
 },
 "nbformat": 4,
 "nbformat_minor": 5
}
