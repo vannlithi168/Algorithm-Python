{
 "cells": [
  {
   "cell_type": "code",
   "execution_count": 2,
   "id": "749e3fe9",
   "metadata": {},
   "outputs": [
    {
     "name": "stdout",
     "output_type": "stream",
     "text": [
      "[(2, 1), (4, 2), (5, 3), (1, 4), (3, 5)]\n"
     ]
    }
   ],
   "source": [
    "def second (k):\n",
    "    return k[1]\n",
    "\n",
    "S = [(3,5), (2,1),(5,3),(1,4),(4,2)]\n",
    "\n",
    "print(sorted(S, key = second))"
   ]
  }
 ],
 "metadata": {
  "kernelspec": {
   "display_name": "Python 3 (ipykernel)",
   "language": "python",
   "name": "python3"
  },
  "language_info": {
   "codemirror_mode": {
    "name": "ipython",
    "version": 3
   },
   "file_extension": ".py",
   "mimetype": "text/x-python",
   "name": "python",
   "nbconvert_exporter": "python",
   "pygments_lexer": "ipython3",
   "version": "3.10.9"
  }
 },
 "nbformat": 4,
 "nbformat_minor": 5
}
