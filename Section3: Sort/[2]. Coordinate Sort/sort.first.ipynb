{
 "cells": [
  {
   "cell_type": "code",
   "execution_count": 2,
   "id": "3527cc48",
   "metadata": {},
   "outputs": [
    {
     "name": "stdout",
     "output_type": "stream",
     "text": [
      "[(1, 4), (2, 1), (3, 5), (4, 2), (5, 3)]\n"
     ]
    }
   ],
   "source": [
    "def first(k):\n",
    "    return k[0]\n",
    "S = [(3,5), (2,1),(5,3),(1,4),(4,2)]\n",
    "\n",
    "print(sorted(S, key = first))"
   ]
  }
 ],
 "metadata": {
  "kernelspec": {
   "display_name": "Python 3 (ipykernel)",
   "language": "python",
   "name": "python3"
  },
  "language_info": {
   "codemirror_mode": {
    "name": "ipython",
    "version": 3
   },
   "file_extension": ".py",
   "mimetype": "text/x-python",
   "name": "python",
   "nbconvert_exporter": "python",
   "pygments_lexer": "ipython3",
   "version": "3.10.9"
  }
 },
 "nbformat": 4,
 "nbformat_minor": 5
}
