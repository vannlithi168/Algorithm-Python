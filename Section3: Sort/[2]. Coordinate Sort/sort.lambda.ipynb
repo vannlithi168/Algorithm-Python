{
 "cells": [
  {
   "cell_type": "code",
   "execution_count": 1,
   "id": "22734b4c",
   "metadata": {},
   "outputs": [
    {
     "name": "stdout",
     "output_type": "stream",
     "text": [
      "[(1, 4), (2, 1), (3, 5), (4, 2), (5, 3)]\n"
     ]
    }
   ],
   "source": [
    "S = [(3,5), (2,1), (5,3), (1,4), (4,2)]\n",
    "\n",
    "print(sorted(S, key = lambda k: k[0]))"
   ]
  },
  {
   "cell_type": "code",
   "execution_count": 2,
   "id": "8a1cc757",
   "metadata": {},
   "outputs": [
    {
     "name": "stdout",
     "output_type": "stream",
     "text": [
      "[(2, 1), (4, 2), (5, 3), (1, 4), (3, 5)]\n"
     ]
    }
   ],
   "source": [
    "S = [(3,5), (2,1), (5,3), (1,4), (4,2)]\n",
    "\n",
    "print(sorted(S, key = lambda k: k[1]))"
   ]
  },
  {
   "cell_type": "code",
   "execution_count": 5,
   "id": "2fcfac40",
   "metadata": {},
   "outputs": [
    {
     "name": "stdout",
     "output_type": "stream",
     "text": [
      "[(1, 2), (1, 3), (1, 4), (2, 1), (2, 5)]\n"
     ]
    }
   ],
   "source": [
    "S = [(2,5), (2,1), (1,3), (1,4), (1,2)]\n",
    "\n",
    "print(sorted(S, key = lambda k: (k[0], k[1])))"
   ]
  },
  {
   "cell_type": "code",
   "execution_count": 6,
   "id": "10a2c1b4",
   "metadata": {},
   "outputs": [
    {
     "name": "stdout",
     "output_type": "stream",
     "text": [
      "[(1, 4), (1, 3), (1, 2), (2, 5), (2, 1)]\n"
     ]
    }
   ],
   "source": [
    "S = [(2,5), (2,1), (1,3), (1,4), (1,2)]\n",
    "\n",
    "print(sorted(S, key = lambda k: (k[0], -k[1])))"
   ]
  },
  {
   "cell_type": "code",
   "execution_count": 7,
   "id": "4dd734b3",
   "metadata": {},
   "outputs": [
    {
     "name": "stdout",
     "output_type": "stream",
     "text": [
      "[(1, 4), (1, 3), (1, 2), (2, 5), (2, 1)]\n"
     ]
    }
   ],
   "source": [
    "#sort method\n",
    "\n",
    "S = [(2,5), (2,1), (1,3), (1,4), (1,2)]\n",
    "\n",
    "S.sort(key = lambda k: (k[0], -k[1]))\n",
    "print(S)"
   ]
  }
 ],
 "metadata": {
  "kernelspec": {
   "display_name": "Python 3 (ipykernel)",
   "language": "python",
   "name": "python3"
  },
  "language_info": {
   "codemirror_mode": {
    "name": "ipython",
    "version": 3
   },
   "file_extension": ".py",
   "mimetype": "text/x-python",
   "name": "python",
   "nbconvert_exporter": "python",
   "pygments_lexer": "ipython3",
   "version": "3.10.9"
  }
 },
 "nbformat": 4,
 "nbformat_minor": 5
}
