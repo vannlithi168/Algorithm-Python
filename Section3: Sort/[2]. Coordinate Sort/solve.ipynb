{
 "cells": [
  {
   "cell_type": "code",
   "execution_count": 2,
   "metadata": {},
   "outputs": [
    {
     "name": "stdout",
     "output_type": "stream",
     "text": [
      "5\n",
      "2 -2\n",
      "2 3\n",
      "-1 3\n",
      "2 -5\n",
      "-1 7\n",
      "-1 7\n",
      "-1 3\n",
      "2 3\n",
      "2 -2\n",
      "2 -5\n"
     ]
    }
   ],
   "source": [
    "def solve(n,p):\n",
    "    p.sort(key = lambda x: (x[0], -x[1]))\n",
    "    for i in range(n):\n",
    "        print(\" \".join(map(str, p[i])))\n",
    "\n",
    "N = int(input())\n",
    "P = [list(map(int, input().split()))for _ in range(N)]\n",
    "solve(N, P)"
   ]
  }
 ],
 "metadata": {
  "kernelspec": {
   "display_name": "Python 3 (ipykernel)",
   "language": "python",
   "name": "python3"
  },
  "language_info": {
   "codemirror_mode": {
    "name": "ipython",
    "version": 3
   },
   "file_extension": ".py",
   "mimetype": "text/x-python",
   "name": "python",
   "nbconvert_exporter": "python",
   "pygments_lexer": "ipython3",
   "version": "3.10.9"
  }
 },
 "nbformat": 4,
 "nbformat_minor": 2
}
