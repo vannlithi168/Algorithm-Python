{
 "cells": [
  {
   "cell_type": "code",
   "execution_count": 1,
   "id": "d78153c0",
   "metadata": {},
   "outputs": [
    {
     "name": "stdout",
     "output_type": "stream",
     "text": [
      "[78, 46, 66, 79, 49, 84, 17, 76]\n",
      "[17, 46, 49, 66, 76, 78, 79, 84]\n"
     ]
    }
   ],
   "source": [
    "#sorting function\n",
    "\n",
    "import random\n",
    "\n",
    "SEED, MIN, MAX, N = 2022, 10, 100, 8\n",
    "random.seed(SEED)\n",
    "S = random.sample(range(MIN, MAX), N)\n",
    "\n",
    "print(S)\n",
    "print(sorted(S))"
   ]
  },
  {
   "cell_type": "code",
   "execution_count": 2,
   "id": "a9d640c8",
   "metadata": {},
   "outputs": [
    {
     "name": "stdout",
     "output_type": "stream",
     "text": [
      "[78, 46, 66, 79, 49, 84, 17, 76]\n",
      "[84, 79, 78, 76, 66, 49, 46, 17]\n"
     ]
    }
   ],
   "source": [
    "#sorted reverse\n",
    "\n",
    "import random\n",
    "\n",
    "SEED, MIN, MAX, N = 2022, 10, 100, 8\n",
    "random.seed(SEED)\n",
    "S = random.sample(range(MIN, MAX), N)\n",
    "\n",
    "print(S)\n",
    "print(sorted(S, reverse = True))"
   ]
  },
  {
   "cell_type": "code",
   "execution_count": 9,
   "id": "5acd8b07",
   "metadata": {},
   "outputs": [
    {
     "name": "stdout",
     "output_type": "stream",
     "text": [
      "10\n",
      "83 42 86 54 25 31 63 98 53 46\n",
      "25 31 53 63 83\n",
      "98 86 54 46 42\n"
     ]
    }
   ],
   "source": [
    "#odd-even sort\n",
    "def solve(n, s):\n",
    "    odd, even = [], []\n",
    "    for i in range(n):\n",
    "        if s[i] % 2 == 0:\n",
    "            even.append(s[i])\n",
    "        else:\n",
    "            odd.append(s[i])\n",
    "    odd.sort()\n",
    "    even.sort(reverse = True)\n",
    "    print(\" \".join(map(str, odd)))\n",
    "    print(\" \". join(map(str, even)))\n",
    "    \n",
    "N = int(input())\n",
    "S = list(map(int, input().split()))\n",
    "solve(N, S)"
   ]
  },
  {
   "cell_type": "code",
   "execution_count": null,
   "id": "caa43e87",
   "metadata": {},
   "outputs": [],
   "source": []
  }
 ],
 "metadata": {
  "kernelspec": {
   "display_name": "Python 3 (ipykernel)",
   "language": "python",
   "name": "python3"
  },
  "language_info": {
   "codemirror_mode": {
    "name": "ipython",
    "version": 3
   },
   "file_extension": ".py",
   "mimetype": "text/x-python",
   "name": "python",
   "nbconvert_exporter": "python",
   "pygments_lexer": "ipython3",
   "version": "3.10.9"
  }
 },
 "nbformat": 4,
 "nbformat_minor": 5
}
