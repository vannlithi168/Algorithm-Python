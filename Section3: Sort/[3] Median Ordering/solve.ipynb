{
 "cells": [
  {
   "cell_type": "code",
   "execution_count": 7,
   "id": "3daf61e0",
   "metadata": {},
   "outputs": [
    {
     "name": "stdout",
     "output_type": "stream",
     "text": [
      "11\n",
      "1 2 3 4 5 6 5 4 3 2 1\n",
      "3 3 4 2 4 2 5 1 5 1 6 \n"
     ]
    }
   ],
   "source": [
    "def solve(n, s):\n",
    "    s.sort()\n",
    "    while len(s) > 0:\n",
    "        mid = (len(s) - 1) // 2\n",
    "        print(s[mid],end = \" \")\n",
    "        s.remove(s[mid])\n",
    "    print()\n",
    "\n",
    "N = int(input())\n",
    "S = list(map(int, input().split()))\n",
    "solve(N,S)"
   ]
  },
  {
   "cell_type": "code",
   "execution_count": 9,
   "id": "18b29645",
   "metadata": {},
   "outputs": [
    {
     "name": "stdout",
     "output_type": "stream",
     "text": [
      "10\n",
      "30 22 55 20 33 50 44 10 40 11\n",
      "[10, 11, 20, 22, 30, 33, 40, 44, 50, 55] 4 30\n",
      "[10, 11, 20, 22, 33, 40, 44, 50, 55] 4 33\n",
      "[10, 11, 20, 22, 40, 44, 50, 55] 3 22\n",
      "[10, 11, 20, 40, 44, 50, 55] 3 40\n",
      "[10, 11, 20, 44, 50, 55] 2 20\n",
      "[10, 11, 44, 50, 55] 2 44\n",
      "[10, 11, 50, 55] 1 11\n",
      "[10, 50, 55] 1 50\n",
      "[10, 55] 0 10\n",
      "[55] 0 55\n",
      "\n"
     ]
    }
   ],
   "source": [
    "def solve(s):\n",
    "    s.sort()\n",
    "    while len(s) > 0:\n",
    "        mid = (len(s) - 1) // 2\n",
    "        print(s, mid, s[mid])\n",
    "        s.remove(s[mid])\n",
    "    print()\n",
    "\n",
    "N = int(input())\n",
    "S = list(map(int, input().split()))\n",
    "solve(S)"
   ]
  }
 ],
 "metadata": {
  "kernelspec": {
   "display_name": "Python 3 (ipykernel)",
   "language": "python",
   "name": "python3"
  },
  "language_info": {
   "codemirror_mode": {
    "name": "ipython",
    "version": 3
   },
   "file_extension": ".py",
   "mimetype": "text/x-python",
   "name": "python",
   "nbconvert_exporter": "python",
   "pygments_lexer": "ipython3",
   "version": "3.10.9"
  }
 },
 "nbformat": 4,
 "nbformat_minor": 5
}
