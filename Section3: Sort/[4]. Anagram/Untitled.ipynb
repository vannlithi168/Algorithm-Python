{
 "cells": [
  {
   "cell_type": "code",
   "execution_count": 1,
   "id": "1212e00b",
   "metadata": {},
   "outputs": [
    {
     "name": "stdout",
     "output_type": "stream",
     "text": [
      "8\n",
      "listen\n",
      "listen\n",
      "santa\n",
      "santa\n",
      "ant\n",
      "ant\n",
      "satan\n",
      "silent\n",
      "tan\n",
      "can\n",
      "can\n",
      "anats\n"
     ]
    }
   ],
   "source": [
    "def solve(n):\n",
    "    anagrams = set([])\n",
    "    for _ in range(n):\n",
    "        word1 = input()\n",
    "        word2 = \"\".join(sorted(word1))\n",
    "        if word2 not in anagrams:\n",
    "            print(word1)\n",
    "            anagrams.add(word2)\n",
    "\n",
    "N = int(input())\n",
    "solve(N)"
   ]
  }
 ],
 "metadata": {
  "kernelspec": {
   "display_name": "Python 3 (ipykernel)",
   "language": "python",
   "name": "python3"
  },
  "language_info": {
   "codemirror_mode": {
    "name": "ipython",
    "version": 3
   },
   "file_extension": ".py",
   "mimetype": "text/x-python",
   "name": "python",
   "nbconvert_exporter": "python",
   "pygments_lexer": "ipython3",
   "version": "3.10.9"
  }
 },
 "nbformat": 4,
 "nbformat_minor": 5
}
