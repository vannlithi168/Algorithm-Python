{
 "cells": [
  {
   "cell_type": "code",
   "execution_count": 1,
   "id": "65d54c43",
   "metadata": {},
   "outputs": [
    {
     "name": "stdout",
     "output_type": "stream",
     "text": [
      "2 4 6 3 1 5 \n"
     ]
    }
   ],
   "source": [
    "from collections import deque\n",
    "\n",
    "def solve(n, k):\n",
    "    queue = deque([i for i in range(1, n+1)])\n",
    "    while queue:\n",
    "        for j in range(1, k+1):\n",
    "            if j != k:\n",
    "                queue.append(queue.popleft())\n",
    "            else:\n",
    "                print(queue.popleft(), end = \" \")\n",
    "    print()\n",
    "    \n",
    "    \n",
    "N, K = map(int, input().split())\n",
    "solve(N, K)"
   ]
  },
  {
   "cell_type": "code",
   "execution_count": null,
   "id": "de593ffc",
   "metadata": {},
   "outputs": [],
   "source": []
  }
 ],
 "metadata": {
  "kernelspec": {
   "display_name": "Python 3 (ipykernel)",
   "language": "python",
   "name": "python3"
  },
  "language_info": {
   "codemirror_mode": {
    "name": "ipython",
    "version": 3
   },
   "file_extension": ".py",
   "mimetype": "text/x-python",
   "name": "python",
   "nbconvert_exporter": "python",
   "pygments_lexer": "ipython3",
   "version": "3.11.4"
  }
 },
 "nbformat": 4,
 "nbformat_minor": 5
}
