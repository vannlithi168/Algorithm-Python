{
 "cells": [
  {
   "cell_type": "code",
   "execution_count": 2,
   "id": "4af37267",
   "metadata": {},
   "outputs": [
    {
     "name": "stdout",
     "output_type": "stream",
     "text": [
      "15\n",
      "push_back A\n",
      "push_front B\n",
      "push_front C\n",
      "pop_front\n",
      "C\n",
      "pop_back\n",
      "B\n",
      "push_front D\n",
      "push_back E\n",
      "peek_front\n",
      "D\n",
      "peek_back\n",
      "E\n",
      "pop_front\n",
      "D\n",
      "pop_back\n",
      "A\n",
      "pop_front\n",
      "E\n",
      "pop_back\n",
      "Oops!\n",
      "peek_front\n",
      "None\n",
      "peek_back\n",
      "None!\n"
     ]
    }
   ],
   "source": [
    "from collections import deque\n",
    "\n",
    "def solve(cmd, queue: deque):\n",
    "    if cmd[0] == \"push_front\":\n",
    "        queue.append(cmd[1])\n",
    "    elif cmd[0] == \"push_back\":\n",
    "        queue.appendleft(cmd[1])\n",
    "    elif cmd[0] == \"pop_front\":\n",
    "        print(\"Oops!\" if not queue else queue.pop())\n",
    "    elif cmd[0] == \"pop_back\":\n",
    "        print(\"Oops!\" if not queue else queue.pop())\n",
    "    elif cmd[0] == \"peek_front\":\n",
    "        print(\"None\" if not queue else queue[-1])\n",
    "    elif cmd[0] == \"peek_back\":\n",
    "        print(\"None!\" if not queue else queue[0])\n",
    "\n",
    "\n",
    "\n",
    "N = int(input())\n",
    "queue = deque()\n",
    "for _ in range(N):\n",
    "    cmd = input().split()\n",
    "    solve(cmd, queue)"
   ]
  },
  {
   "cell_type": "code",
   "execution_count": null,
   "id": "bf6f6e5d",
   "metadata": {},
   "outputs": [],
   "source": []
  }
 ],
 "metadata": {
  "kernelspec": {
   "display_name": "Python 3 (ipykernel)",
   "language": "python",
   "name": "python3"
  },
  "language_info": {
   "codemirror_mode": {
    "name": "ipython",
    "version": 3
   },
   "file_extension": ".py",
   "mimetype": "text/x-python",
   "name": "python",
   "nbconvert_exporter": "python",
   "pygments_lexer": "ipython3",
   "version": "3.10.9"
  }
 },
 "nbformat": 4,
 "nbformat_minor": 5
}
