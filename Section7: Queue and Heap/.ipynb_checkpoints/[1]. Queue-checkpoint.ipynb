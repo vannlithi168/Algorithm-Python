{
 "cells": [
  {
   "cell_type": "code",
   "execution_count": null,
   "id": "97809f62",
   "metadata": {},
   "outputs": [],
   "source": [
    "def solve(cmd, queue):\n",
    "    if cmd[0] == \"enqueue\":\n",
    "        queue.append(cmd[1])\n",
    "    elif cmd[0] == 'dequeue':\n",
    "        print(\"Oops!\" if len(queue) == 0 else queue.pop(0))\n",
    "    elif cmd[0] == \"peek\":\n",
    "        print(\"None!\" if len(queue) == 0 else queue[0])\n",
    "    elif cmd[0] == \"size\":\n",
    "        print(len(queue))\n",
    "    elif cmd[0] == \"empty\":\n",
    "        print(len(queue) == 0)\n",
    "        \n",
    "N = int(input())\n",
    "queue = []\n",
    "for _ in range(N):\n",
    "    cmd = input().split()\n",
    "    solve(cmd, queue)"
   ]
  }
 ],
 "metadata": {
  "kernelspec": {
   "display_name": "Python 3 (ipykernel)",
   "language": "python",
   "name": "python3"
  },
  "language_info": {
   "codemirror_mode": {
    "name": "ipython",
    "version": 3
   },
   "file_extension": ".py",
   "mimetype": "text/x-python",
   "name": "python",
   "nbconvert_exporter": "python",
   "pygments_lexer": "ipython3",
   "version": "3.10.9"
  }
 },
 "nbformat": 4,
 "nbformat_minor": 5
}
