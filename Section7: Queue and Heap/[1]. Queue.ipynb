{
 "cells": [
  {
   "cell_type": "code",
   "execution_count": 1,
   "id": "334a4909",
   "metadata": {},
   "outputs": [
    {
     "name": "stdout",
     "output_type": "stream",
     "text": [
      "16\n",
      "enqueue A\n",
      "enqueue B\n",
      "enqueue C\n",
      "dequeue \n",
      "A\n",
      "peek\n",
      "B\n",
      "size\n",
      "2\n",
      "enqueue D\n",
      "peek\n",
      "B\n",
      "size\n",
      "3\n",
      "empty\n",
      "False\n",
      "dequeue\n",
      "B\n",
      "dequeue\n",
      "C\n",
      "dequeue\n",
      "D\n",
      "dequeue\n",
      "Oops!\n",
      "peek\n",
      "None!\n",
      "empty\n",
      "True\n"
     ]
    }
   ],
   "source": [
    "def solve(cmd, queue):\n",
    "    if cmd[0] == \"enqueue\":\n",
    "        queue.append(cmd[1])\n",
    "    elif cmd[0] == 'dequeue':\n",
    "        print(\"Oops!\" if len(queue) == 0 else queue.pop(0))\n",
    "    elif cmd[0] == \"peek\":\n",
    "        print(\"None!\" if len(queue) == 0 else queue[0])\n",
    "    elif cmd[0] == \"size\":\n",
    "        print(len(queue))\n",
    "    elif cmd[0] == \"empty\":\n",
    "        print(len(queue) == 0)\n",
    "        \n",
    "N = int(input())\n",
    "queue = []\n",
    "for _ in range(N):\n",
    "    cmd = input().split()\n",
    "    solve(cmd, queue)"
   ]
  }
 ],
 "metadata": {
  "kernelspec": {
   "display_name": "Python 3 (ipykernel)",
   "language": "python",
   "name": "python3"
  },
  "language_info": {
   "codemirror_mode": {
    "name": "ipython",
    "version": 3
   },
   "file_extension": ".py",
   "mimetype": "text/x-python",
   "name": "python",
   "nbconvert_exporter": "python",
   "pygments_lexer": "ipython3",
   "version": "3.10.9"
  }
 },
 "nbformat": 4,
 "nbformat_minor": 5
}
