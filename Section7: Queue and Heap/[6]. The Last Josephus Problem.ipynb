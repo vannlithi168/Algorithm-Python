{
 "cells": [
  {
   "cell_type": "code",
   "execution_count": 1,
   "metadata": {},
   "outputs": [
    {
     "ename": "KeyboardInterrupt",
     "evalue": "",
     "output_type": "error",
     "traceback": [
      "\u001b[0;31m---------------------------------------------------------------------------\u001b[0m",
      "\u001b[0;31mKeyboardInterrupt\u001b[0m                         Traceback (most recent call last)",
      "\u001b[1;32m/Users/anbschool0027/kimvannlithi/Algorithm with python/Section7: Queue and Heap/[6]. The Last Josephus Problem.ipynb Cell 1\u001b[0m line \u001b[0;36m1\n\u001b[1;32m      <a href='vscode-notebook-cell:/Users/anbschool0027/kimvannlithi/Algorithm%20with%20python/Section7%3A%20Queue%20and%20Heap/%5B6%5D.%20The%20Last%20Josephus%20Problem.ipynb#W0sZmlsZQ%3D%3D?line=6'>7</a>\u001b[0m     \u001b[39mreturn\u001b[39;00m queue[\u001b[39m0\u001b[39m]\n\u001b[1;32m      <a href='vscode-notebook-cell:/Users/anbschool0027/kimvannlithi/Algorithm%20with%20python/Section7%3A%20Queue%20and%20Heap/%5B6%5D.%20The%20Last%20Josephus%20Problem.ipynb#W0sZmlsZQ%3D%3D?line=8'>9</a>\u001b[0m N, K \u001b[39m=\u001b[39m \u001b[39mmap\u001b[39m(\u001b[39mint\u001b[39m, \u001b[39minput\u001b[39m()\u001b[39m.\u001b[39msplit())\n\u001b[0;32m---> <a href='vscode-notebook-cell:/Users/anbschool0027/kimvannlithi/Algorithm%20with%20python/Section7%3A%20Queue%20and%20Heap/%5B6%5D.%20The%20Last%20Josephus%20Problem.ipynb#W0sZmlsZQ%3D%3D?line=9'>10</a>\u001b[0m \u001b[39mprint\u001b[39m(solve(N, K))\n",
      "\u001b[1;32m/Users/anbschool0027/kimvannlithi/Algorithm with python/Section7: Queue and Heap/[6]. The Last Josephus Problem.ipynb Cell 1\u001b[0m line \u001b[0;36m6\n\u001b[1;32m      <a href='vscode-notebook-cell:/Users/anbschool0027/kimvannlithi/Algorithm%20with%20python/Section7%3A%20Queue%20and%20Heap/%5B6%5D.%20The%20Last%20Josephus%20Problem.ipynb#W0sZmlsZQ%3D%3D?line=3'>4</a>\u001b[0m \u001b[39mwhile\u001b[39;00m \u001b[39mlen\u001b[39m(queue) \u001b[39m>\u001b[39m \u001b[39m1\u001b[39m:\n\u001b[1;32m      <a href='vscode-notebook-cell:/Users/anbschool0027/kimvannlithi/Algorithm%20with%20python/Section7%3A%20Queue%20and%20Heap/%5B6%5D.%20The%20Last%20Josephus%20Problem.ipynb#W0sZmlsZQ%3D%3D?line=4'>5</a>\u001b[0m     j \u001b[39m=\u001b[39m (j \u001b[39m+\u001b[39m k \u001b[39m-\u001b[39m \u001b[39m1\u001b[39m) \u001b[39m%\u001b[39m \u001b[39mlen\u001b[39m(queue)\n\u001b[0;32m----> <a href='vscode-notebook-cell:/Users/anbschool0027/kimvannlithi/Algorithm%20with%20python/Section7%3A%20Queue%20and%20Heap/%5B6%5D.%20The%20Last%20Josephus%20Problem.ipynb#W0sZmlsZQ%3D%3D?line=5'>6</a>\u001b[0m     queue\u001b[39m.\u001b[39;49mpop(j)\n\u001b[1;32m      <a href='vscode-notebook-cell:/Users/anbschool0027/kimvannlithi/Algorithm%20with%20python/Section7%3A%20Queue%20and%20Heap/%5B6%5D.%20The%20Last%20Josephus%20Problem.ipynb#W0sZmlsZQ%3D%3D?line=6'>7</a>\u001b[0m \u001b[39mreturn\u001b[39;00m queue[\u001b[39m0\u001b[39m]\n",
      "\u001b[0;31mKeyboardInterrupt\u001b[0m: "
     ]
    }
   ],
   "source": [
    "def solve(n, k):\n",
    "    queue = [i for i in range(1, n + 1)]\n",
    "    j = 0\n",
    "    while len(queue) > 1:\n",
    "        j = (j + k - 1) % len(queue)\n",
    "        queue.pop(j)\n",
    "    return queue[0]\n",
    "\n",
    "N, K = map(int, input().split())\n",
    "print(solve(N, K))"
   ]
  },
  {
   "cell_type": "code",
   "execution_count": 3,
   "metadata": {},
   "outputs": [
    {
     "ename": "RecursionError",
     "evalue": "maximum recursion depth exceeded",
     "output_type": "error",
     "traceback": [
      "\u001b[0;31m---------------------------------------------------------------------------\u001b[0m",
      "\u001b[0;31mRecursionError\u001b[0m                            Traceback (most recent call last)",
      "\u001b[1;32m/Users/anbschool0027/kimvannlithi/Algorithm with python/Section7: Queue and Heap/[6]. The Last Josephus Problem.ipynb Cell 2\u001b[0m line \u001b[0;36m8\n\u001b[1;32m      <a href='vscode-notebook-cell:/Users/anbschool0027/kimvannlithi/Algorithm%20with%20python/Section7%3A%20Queue%20and%20Heap/%5B6%5D.%20The%20Last%20Josephus%20Problem.ipynb#W1sZmlsZQ%3D%3D?line=4'>5</a>\u001b[0m         \u001b[39mreturn\u001b[39;00m ((solve(n \u001b[39m-\u001b[39m\u001b[39m1\u001b[39m, k)\u001b[39m+\u001b[39m k \u001b[39m-\u001b[39m\u001b[39m1\u001b[39m) \u001b[39m%\u001b[39m n) \u001b[39m+\u001b[39m \u001b[39m1\u001b[39m\n\u001b[1;32m      <a href='vscode-notebook-cell:/Users/anbschool0027/kimvannlithi/Algorithm%20with%20python/Section7%3A%20Queue%20and%20Heap/%5B6%5D.%20The%20Last%20Josephus%20Problem.ipynb#W1sZmlsZQ%3D%3D?line=6'>7</a>\u001b[0m N, K \u001b[39m=\u001b[39m \u001b[39mmap\u001b[39m(\u001b[39mint\u001b[39m, \u001b[39minput\u001b[39m()\u001b[39m.\u001b[39msplit())\n\u001b[0;32m----> <a href='vscode-notebook-cell:/Users/anbschool0027/kimvannlithi/Algorithm%20with%20python/Section7%3A%20Queue%20and%20Heap/%5B6%5D.%20The%20Last%20Josephus%20Problem.ipynb#W1sZmlsZQ%3D%3D?line=7'>8</a>\u001b[0m \u001b[39mprint\u001b[39m(solve(N, K))\n",
      "\u001b[1;32m/Users/anbschool0027/kimvannlithi/Algorithm with python/Section7: Queue and Heap/[6]. The Last Josephus Problem.ipynb Cell 2\u001b[0m line \u001b[0;36m5\n\u001b[1;32m      <a href='vscode-notebook-cell:/Users/anbschool0027/kimvannlithi/Algorithm%20with%20python/Section7%3A%20Queue%20and%20Heap/%5B6%5D.%20The%20Last%20Josephus%20Problem.ipynb#W1sZmlsZQ%3D%3D?line=2'>3</a>\u001b[0m     \u001b[39mreturn\u001b[39;00m \u001b[39m1\u001b[39m\n\u001b[1;32m      <a href='vscode-notebook-cell:/Users/anbschool0027/kimvannlithi/Algorithm%20with%20python/Section7%3A%20Queue%20and%20Heap/%5B6%5D.%20The%20Last%20Josephus%20Problem.ipynb#W1sZmlsZQ%3D%3D?line=3'>4</a>\u001b[0m \u001b[39melse\u001b[39;00m:\n\u001b[0;32m----> <a href='vscode-notebook-cell:/Users/anbschool0027/kimvannlithi/Algorithm%20with%20python/Section7%3A%20Queue%20and%20Heap/%5B6%5D.%20The%20Last%20Josephus%20Problem.ipynb#W1sZmlsZQ%3D%3D?line=4'>5</a>\u001b[0m     \u001b[39mreturn\u001b[39;00m ((solve(n \u001b[39m-\u001b[39;49m\u001b[39m1\u001b[39;49m, k)\u001b[39m+\u001b[39m k \u001b[39m-\u001b[39m\u001b[39m1\u001b[39m) \u001b[39m%\u001b[39m n) \u001b[39m+\u001b[39m \u001b[39m1\u001b[39m\n",
      "\u001b[1;32m/Users/anbschool0027/kimvannlithi/Algorithm with python/Section7: Queue and Heap/[6]. The Last Josephus Problem.ipynb Cell 2\u001b[0m line \u001b[0;36m5\n\u001b[1;32m      <a href='vscode-notebook-cell:/Users/anbschool0027/kimvannlithi/Algorithm%20with%20python/Section7%3A%20Queue%20and%20Heap/%5B6%5D.%20The%20Last%20Josephus%20Problem.ipynb#W1sZmlsZQ%3D%3D?line=2'>3</a>\u001b[0m     \u001b[39mreturn\u001b[39;00m \u001b[39m1\u001b[39m\n\u001b[1;32m      <a href='vscode-notebook-cell:/Users/anbschool0027/kimvannlithi/Algorithm%20with%20python/Section7%3A%20Queue%20and%20Heap/%5B6%5D.%20The%20Last%20Josephus%20Problem.ipynb#W1sZmlsZQ%3D%3D?line=3'>4</a>\u001b[0m \u001b[39melse\u001b[39;00m:\n\u001b[0;32m----> <a href='vscode-notebook-cell:/Users/anbschool0027/kimvannlithi/Algorithm%20with%20python/Section7%3A%20Queue%20and%20Heap/%5B6%5D.%20The%20Last%20Josephus%20Problem.ipynb#W1sZmlsZQ%3D%3D?line=4'>5</a>\u001b[0m     \u001b[39mreturn\u001b[39;00m ((solve(n \u001b[39m-\u001b[39;49m\u001b[39m1\u001b[39;49m, k)\u001b[39m+\u001b[39m k \u001b[39m-\u001b[39m\u001b[39m1\u001b[39m) \u001b[39m%\u001b[39m n) \u001b[39m+\u001b[39m \u001b[39m1\u001b[39m\n",
      "    \u001b[0;31m[... skipping similar frames: solve at line 5 (2971 times)]\u001b[0m\n",
      "\u001b[1;32m/Users/anbschool0027/kimvannlithi/Algorithm with python/Section7: Queue and Heap/[6]. The Last Josephus Problem.ipynb Cell 2\u001b[0m line \u001b[0;36m5\n\u001b[1;32m      <a href='vscode-notebook-cell:/Users/anbschool0027/kimvannlithi/Algorithm%20with%20python/Section7%3A%20Queue%20and%20Heap/%5B6%5D.%20The%20Last%20Josephus%20Problem.ipynb#W1sZmlsZQ%3D%3D?line=2'>3</a>\u001b[0m     \u001b[39mreturn\u001b[39;00m \u001b[39m1\u001b[39m\n\u001b[1;32m      <a href='vscode-notebook-cell:/Users/anbschool0027/kimvannlithi/Algorithm%20with%20python/Section7%3A%20Queue%20and%20Heap/%5B6%5D.%20The%20Last%20Josephus%20Problem.ipynb#W1sZmlsZQ%3D%3D?line=3'>4</a>\u001b[0m \u001b[39melse\u001b[39;00m:\n\u001b[0;32m----> <a href='vscode-notebook-cell:/Users/anbschool0027/kimvannlithi/Algorithm%20with%20python/Section7%3A%20Queue%20and%20Heap/%5B6%5D.%20The%20Last%20Josephus%20Problem.ipynb#W1sZmlsZQ%3D%3D?line=4'>5</a>\u001b[0m     \u001b[39mreturn\u001b[39;00m ((solve(n \u001b[39m-\u001b[39;49m\u001b[39m1\u001b[39;49m, k)\u001b[39m+\u001b[39m k \u001b[39m-\u001b[39m\u001b[39m1\u001b[39m) \u001b[39m%\u001b[39m n) \u001b[39m+\u001b[39m \u001b[39m1\u001b[39m\n",
      "\u001b[0;31mRecursionError\u001b[0m: maximum recursion depth exceeded"
     ]
    }
   ],
   "source": [
    "def solve(n, k):\n",
    "    if n == 1:\n",
    "        return 1\n",
    "    else:\n",
    "        return ((solve(n -1, k)+ k -1) % n) + 1\n",
    "\n",
    "N, K = map(int, input().split())\n",
    "print(solve(N, K))"
   ]
  },
  {
   "cell_type": "code",
   "execution_count": null,
   "metadata": {},
   "outputs": [],
   "source": []
  }
 ],
 "metadata": {
  "kernelspec": {
   "display_name": "Python 3",
   "language": "python",
   "name": "python3"
  },
  "language_info": {
   "codemirror_mode": {
    "name": "ipython",
    "version": 3
   },
   "file_extension": ".py",
   "mimetype": "text/x-python",
   "name": "python",
   "nbconvert_exporter": "python",
   "pygments_lexer": "ipython3",
   "version": "3.11.4"
  },
  "orig_nbformat": 4
 },
 "nbformat": 4,
 "nbformat_minor": 2
}
