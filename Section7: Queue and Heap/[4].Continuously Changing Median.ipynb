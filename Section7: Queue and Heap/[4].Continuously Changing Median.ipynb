{
 "cells": [
  {
   "cell_type": "code",
   "execution_count": 2,
   "id": "b3450c37",
   "metadata": {},
   "outputs": [
    {
     "name": "stdout",
     "output_type": "stream",
     "text": [
      "1 1 2 2 3 3 4 4 5 \n"
     ]
    }
   ],
   "source": [
    "from heapq import heappush, heappop\n",
    "\n",
    "def solve(A):\n",
    "    maxheap, minheap = [], []\n",
    "    for a in A:\n",
    "        heappush(maxheap, -a)\n",
    "        heappush(minheap, -heappop(maxheap))\n",
    "        if len(maxheap) < len(minheap):\n",
    "            heappush(maxheap, -heappop(minheap))\n",
    "        print(-maxheap[0], end= \" \")\n",
    "    print()\n",
    "    \n",
    "A = list(map(int, input().split()))\n",
    "solve(A)        "
   ]
  },
  {
   "cell_type": "code",
   "execution_count": null,
   "id": "67a437ff",
   "metadata": {},
   "outputs": [],
   "source": []
  }
 ],
 "metadata": {
  "kernelspec": {
   "display_name": "Python 3 (ipykernel)",
   "language": "python",
   "name": "python3"
  },
  "language_info": {
   "codemirror_mode": {
    "name": "ipython",
    "version": 3
   },
   "file_extension": ".py",
   "mimetype": "text/x-python",
   "name": "python",
   "nbconvert_exporter": "python",
   "pygments_lexer": "ipython3",
   "version": "3.11.4"
  }
 },
 "nbformat": 4,
 "nbformat_minor": 5
}
