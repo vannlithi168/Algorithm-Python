{
 "cells": [
  {
   "cell_type": "code",
   "execution_count": 1,
   "id": "648be756",
   "metadata": {},
   "outputs": [
    {
     "ename": "AttributeError",
     "evalue": "'dict' object has no attribute 'ims'",
     "output_type": "error",
     "traceback": [
      "\u001b[0;31m---------------------------------------------------------------------------\u001b[0m",
      "\u001b[0;31mAttributeError\u001b[0m                            Traceback (most recent call last)",
      "\u001b[1;32m/Users/anbschool0027/kimvannlithi/Algorithm with python/Section8: Hash Table/[5].Roman-numerals Convertion.ipynb Cell 1\u001b[0m line \u001b[0;36m1\n\u001b[1;32m      <a href='vscode-notebook-cell:/Users/anbschool0027/kimvannlithi/Algorithm%20with%20python/Section8%3A%20Hash%20Table/%5B5%5D.Roman-numerals%20Convertion.ipynb#W0sZmlsZQ%3D%3D?line=7'>8</a>\u001b[0m     \u001b[39mreturn\u001b[39;00m roman\n\u001b[1;32m     <a href='vscode-notebook-cell:/Users/anbschool0027/kimvannlithi/Algorithm%20with%20python/Section8%3A%20Hash%20Table/%5B5%5D.Roman-numerals%20Convertion.ipynb#W0sZmlsZQ%3D%3D?line=9'>10</a>\u001b[0m N \u001b[39m=\u001b[39m \u001b[39mint\u001b[39m(\u001b[39minput\u001b[39m())\n\u001b[0;32m---> <a href='vscode-notebook-cell:/Users/anbschool0027/kimvannlithi/Algorithm%20with%20python/Section8%3A%20Hash%20Table/%5B5%5D.Roman-numerals%20Convertion.ipynb#W0sZmlsZQ%3D%3D?line=10'>11</a>\u001b[0m \u001b[39mprint\u001b[39m(solve(N))\n",
      "\u001b[1;32m/Users/anbschool0027/kimvannlithi/Algorithm with python/Section8: Hash Table/[5].Roman-numerals Convertion.ipynb Cell 1\u001b[0m line \u001b[0;36m4\n\u001b[1;32m      <a href='vscode-notebook-cell:/Users/anbschool0027/kimvannlithi/Algorithm%20with%20python/Section8%3A%20Hash%20Table/%5B5%5D.Roman-numerals%20Convertion.ipynb#W0sZmlsZQ%3D%3D?line=1'>2</a>\u001b[0m T \u001b[39m=\u001b[39m {\u001b[39m1000\u001b[39m:\u001b[39m\"\u001b[39m\u001b[39mM\u001b[39m\u001b[39m\"\u001b[39m, \u001b[39m900\u001b[39m:\u001b[39m\"\u001b[39m\u001b[39mCM\u001b[39m\u001b[39m\"\u001b[39m, \u001b[39m500\u001b[39m:\u001b[39m\"\u001b[39m\u001b[39mD\u001b[39m\u001b[39m\"\u001b[39m, \u001b[39m400\u001b[39m:\u001b[39m\"\u001b[39m\u001b[39mCD\u001b[39m\u001b[39m\"\u001b[39m, \u001b[39m100\u001b[39m: \u001b[39m\"\u001b[39m\u001b[39mC\u001b[39m\u001b[39m\"\u001b[39m, \u001b[39m90\u001b[39m:\u001b[39m\"\u001b[39m\u001b[39mXC\u001b[39m\u001b[39m\"\u001b[39m, \u001b[39m50\u001b[39m:\u001b[39m\"\u001b[39m\u001b[39mL\u001b[39m\u001b[39m\"\u001b[39m, \u001b[39m40\u001b[39m:\u001b[39m\"\u001b[39m\u001b[39mXL\u001b[39m\u001b[39m\"\u001b[39m, \u001b[39m10\u001b[39m:\u001b[39m\"\u001b[39m\u001b[39mX\u001b[39m\u001b[39m\"\u001b[39m, \u001b[39m9\u001b[39m:\u001b[39m\"\u001b[39m\u001b[39mIX\u001b[39m\u001b[39m\"\u001b[39m, \u001b[39m5\u001b[39m:\u001b[39m\"\u001b[39m\u001b[39mV\u001b[39m\u001b[39m\"\u001b[39m, \u001b[39m4\u001b[39m:\u001b[39m\"\u001b[39m\u001b[39mIV\u001b[39m\u001b[39m\"\u001b[39m, \u001b[39m1\u001b[39m:\u001b[39m\"\u001b[39m\u001b[39mI\u001b[39m\u001b[39m\"\u001b[39m}\n\u001b[1;32m      <a href='vscode-notebook-cell:/Users/anbschool0027/kimvannlithi/Algorithm%20with%20python/Section8%3A%20Hash%20Table/%5B5%5D.Roman-numerals%20Convertion.ipynb#W0sZmlsZQ%3D%3D?line=2'>3</a>\u001b[0m roman \u001b[39m=\u001b[39m \u001b[39m\"\u001b[39m\u001b[39m\"\u001b[39m\n\u001b[0;32m----> <a href='vscode-notebook-cell:/Users/anbschool0027/kimvannlithi/Algorithm%20with%20python/Section8%3A%20Hash%20Table/%5B5%5D.Roman-numerals%20Convertion.ipynb#W0sZmlsZQ%3D%3D?line=3'>4</a>\u001b[0m \u001b[39mfor\u001b[39;00m num, val \u001b[39min\u001b[39;00m T\u001b[39m.\u001b[39;49mims():\n\u001b[1;32m      <a href='vscode-notebook-cell:/Users/anbschool0027/kimvannlithi/Algorithm%20with%20python/Section8%3A%20Hash%20Table/%5B5%5D.Roman-numerals%20Convertion.ipynb#W0sZmlsZQ%3D%3D?line=4'>5</a>\u001b[0m     \u001b[39mwhile\u001b[39;00m n\u001b[39m>\u001b[39m\u001b[39m=\u001b[39m num:\n\u001b[1;32m      <a href='vscode-notebook-cell:/Users/anbschool0027/kimvannlithi/Algorithm%20with%20python/Section8%3A%20Hash%20Table/%5B5%5D.Roman-numerals%20Convertion.ipynb#W0sZmlsZQ%3D%3D?line=5'>6</a>\u001b[0m         roman \u001b[39m+\u001b[39m\u001b[39m=\u001b[39m val\n",
      "\u001b[0;31mAttributeError\u001b[0m: 'dict' object has no attribute 'ims'"
     ]
    }
   ],
   "source": [
    "def solve(n):\n",
    "    T = {1000:\"M\", 900:\"CM\", 500:\"D\", 400:\"CD\", 100: \"C\", 90:\"XC\", 50:\"L\", 40:\"XL\", 10:\"X\", 9:\"IX\", 5:\"V\", 4:\"IV\", 1:\"I\"}\n",
    "    roman = \"\"\n",
    "    for num, val in T.items():\n",
    "        while n>= num:\n",
    "            roman += val\n",
    "            n -= num\n",
    "    return roman\n",
    "\n",
    "N = int(input())\n",
    "print(solve(N))"
   ]
  }
 ],
 "metadata": {
  "kernelspec": {
   "display_name": "Python 3 (ipykernel)",
   "language": "python",
   "name": "python3"
  },
  "language_info": {
   "codemirror_mode": {
    "name": "ipython",
    "version": 3
   },
   "file_extension": ".py",
   "mimetype": "text/x-python",
   "name": "python",
   "nbconvert_exporter": "python",
   "pygments_lexer": "ipython3",
   "version": "3.11.4"
  }
 },
 "nbformat": 4,
 "nbformat_minor": 5
}
