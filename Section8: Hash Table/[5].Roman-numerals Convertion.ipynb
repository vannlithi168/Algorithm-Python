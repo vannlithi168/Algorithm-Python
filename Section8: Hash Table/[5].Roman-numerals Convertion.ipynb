{
 "cells": [
  {
   "cell_type": "code",
   "execution_count": 2,
   "id": "648be756",
   "metadata": {},
   "outputs": [
    {
     "name": "stdout",
     "output_type": "stream",
     "text": [
      "MCDXLIV\n"
     ]
    }
   ],
   "source": [
    "def solve(n):\n",
    "    T = {1000:\"M\", 900:\"CM\", 500:\"D\", 400:\"CD\", 100: \"C\", 90:\"XC\", 50:\"L\", 40:\"XL\", 10:\"X\", 9:\"IX\", 5:\"V\", 4:\"IV\", 1:\"I\"}\n",
    "    roman = \"\"\n",
    "    for num, val in T.items():\n",
    "        while n>= num:\n",
    "            roman += val\n",
    "            n -= num\n",
    "    return roman\n",
    "\n",
    "N = int(input())\n",
    "print(solve(N))"
   ]
  }
 ],
 "metadata": {
  "kernelspec": {
   "display_name": "Python 3 (ipykernel)",
   "language": "python",
   "name": "python3"
  },
  "language_info": {
   "codemirror_mode": {
    "name": "ipython",
    "version": 3
   },
   "file_extension": ".py",
   "mimetype": "text/x-python",
   "name": "python",
   "nbconvert_exporter": "python",
   "pygments_lexer": "ipython3",
   "version": "3.11.4"
  }
 },
 "nbformat": 4,
 "nbformat_minor": 5
}
