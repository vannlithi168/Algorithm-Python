{
 "cells": [
  {
   "cell_type": "code",
   "execution_count": 4,
   "id": "ff75146e",
   "metadata": {},
   "outputs": [
    {
     "name": "stdout",
     "output_type": "stream",
     "text": [
      "3334\n"
     ]
    }
   ],
   "source": [
    "def solve(roman):\n",
    "    T = {\"I\":1, \"V\":5, \"X\":10, \"L\":50, \"C\":100, \"D\":500, \"M\":1000}\n",
    "    s = 0\n",
    "    for i in range(len(roman) - 1):\n",
    "        if T[roman[i]] < T[roman[i+1]]:\n",
    "            s -= T[roman[i]]\n",
    "        else:\n",
    "            s += T[roman[i]]\n",
    "\n",
    "    s += T[roman[i+1]]\n",
    "    return s + T[roman[-1]]\n",
    "\n",
    "N = input()\n",
    "print(solve(N))"
   ]
  }
 ],
 "metadata": {
  "kernelspec": {
   "display_name": "Python 3 (ipykernel)",
   "language": "python",
   "name": "python3"
  },
  "language_info": {
   "codemirror_mode": {
    "name": "ipython",
    "version": 3
   },
   "file_extension": ".py",
   "mimetype": "text/x-python",
   "name": "python",
   "nbconvert_exporter": "python",
   "pygments_lexer": "ipython3",
   "version": "3.11.4"
  }
 },
 "nbformat": 4,
 "nbformat_minor": 5
}
