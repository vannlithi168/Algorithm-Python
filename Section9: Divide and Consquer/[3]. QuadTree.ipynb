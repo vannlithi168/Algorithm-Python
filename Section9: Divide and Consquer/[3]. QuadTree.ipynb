{
 "cells": [
  {
   "cell_type": "code",
   "execution_count": null,
   "metadata": {},
   "outputs": [],
   "source": []
  },
  {
   "cell_type": "code",
   "execution_count": 2,
   "id": "1cfe92ac",
   "metadata": {},
   "outputs": [
    {
     "name": "stdout",
     "output_type": "stream",
     "text": [
      "QQQBBBWBBBQBQBBWBWBQWWWBQWWQWBWWQWWWB\n"
     ]
    }
   ],
   "source": [
    "def quadtree(i, j, n, A):\n",
    "    chk = check(i, j, n, A)\n",
    "    if chk < 2:\n",
    "        return \"W\" if chk == 0 else \"B\"\n",
    "    else:\n",
    "        m = n // 2\n",
    "        s1 = quadtree(i, j, m, A)\n",
    "        s2 = quadtree(i, j+m, m, A)\n",
    "        s3 = quadtree(i+m, j, m, A)\n",
    "        s4 = quadtree(i+m, j+m, m, A)\n",
    "        return \"Q\" + s1 + s2 + s3 + s4\n",
    "    \n",
    "def check(i, j, n, A):\n",
    "    for r in range(i, i+n):\n",
    "        for c in range(j, j+n):\n",
    "            if A[r][c] != A[i][j]:\n",
    "                return 2\n",
    "    return A[i][j]\n",
    "\n",
    "N = int(input())\n",
    "A = [list(map(int, input().split())) for _ in range(N)]\n",
    "print(quadtree(0, 0, N, A))\n"
   ]
  }
 ],
 "metadata": {
  "kernelspec": {
   "display_name": "Python 3 (ipykernel)",
   "language": "python",
   "name": "python3"
  },
  "language_info": {
   "codemirror_mode": {
    "name": "ipython",
    "version": 3
   },
   "file_extension": ".py",
   "mimetype": "text/x-python",
   "name": "python",
   "nbconvert_exporter": "python",
   "pygments_lexer": "ipython3",
   "version": "3.11.4"
  }
 },
 "nbformat": 4,
 "nbformat_minor": 5
}
