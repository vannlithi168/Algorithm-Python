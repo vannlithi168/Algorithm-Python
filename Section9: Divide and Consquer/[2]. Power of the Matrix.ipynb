{
 "cells": [
  {
   "cell_type": "code",
   "execution_count": 1,
   "id": "8d8c03cc",
   "metadata": {},
   "outputs": [
    {
     "name": "stdout",
     "output_type": "stream",
     "text": [
      "A+B:\n",
      "6 8\n",
      "10 12\n",
      "A+B:\n",
      "19 22\n",
      "43 50\n"
     ]
    }
   ],
   "source": [
    "def madd(n, A, B):\n",
    "    C = [[0]*n for _ in range(n)]\n",
    "    for i in range(n):\n",
    "        for j in range(n):\n",
    "            C[i][j] = A[i][j] + B[i][j]\n",
    "    return C\n",
    "\n",
    "def mmult(n, A, B):\n",
    "    C = [[0] * n for _ in range(n)]\n",
    "    for i in range(n):\n",
    "        for j in range(n):\n",
    "            for k in range(n):\n",
    "                C[i][j] += A[i][k] * B[k][j]\n",
    "    return C\n",
    "\n",
    "def mprint(n, A):\n",
    "    for i in range(n):\n",
    "        print(*A[i])\n",
    "        \n",
    "def solve(n, A, B):\n",
    "    print(\"A+B:\")\n",
    "    mprint(n, madd(n, A, B))\n",
    "    print(\"A*B:\")\n",
    "    mprint(n, mmult(n, A, B))\n",
    "    \n",
    "N = int(input())\n",
    "A = [list(map(int, input().split())) for _ in range(N)]\n",
    "B = [list(map(int, input().split())) for _ in range(N)]\n",
    "solve(N, A, B)\n"
   ]
  },
  {
   "cell_type": "code",
   "execution_count": 3,
   "id": "5d38c3ba",
   "metadata": {},
   "outputs": [
    {
     "name": "stdout",
     "output_type": "stream",
     "text": [
      "384 384 424\n",
      "336 680 88\n",
      "672 536 384\n"
     ]
    }
   ],
   "source": [
    "#improve solution\n",
    "\n",
    "def mmult(n, A, B):\n",
    "    C = [[0] * n for _ in range(n)]\n",
    "    for i in range(n):\n",
    "        for j in range(n):\n",
    "            for k in range(n):\n",
    "                C[i][j] += A[i][k] * B[k][j] & 1000\n",
    "            C[i][j] %= 1000\n",
    "    return C\n",
    "\n",
    "def solve(n, A, b):\n",
    "    C = [A[i] for i in range(n)]\n",
    "    for _ in range(b - 1):\n",
    "        C = mmult(n, C, A)\n",
    "    for i in range(n):\n",
    "        print(*C[i])\n",
    "\n",
    "N, B = map(int, input().split())\n",
    "A = [list(map(int, input().split())) for _ in range(N)]\n",
    "solve(N, A, B)\n"
   ]
  },
  {
   "cell_type": "code",
   "execution_count": 10,
   "id": "c15f4346",
   "metadata": {},
   "outputs": [
    {
     "name": "stdout",
     "output_type": "stream",
     "text": [
      "972 225 992 759\n",
      "268 433 596 759\n",
      "259 822 355 888\n",
      "194 381 445 509\n"
     ]
    }
   ],
   "source": [
    "#solution 2 more faster \n",
    "def mmult(n, A, B):\n",
    "    C = [[0] * n for _ in range(n)]\n",
    "    for i in range(n):\n",
    "        for j in range(n):\n",
    "            for k in range(n):\n",
    "                C[i][j] += A[i][k] * B[k][j] % 1000\n",
    "            C[i][j] %= 1000\n",
    "    return C\n",
    "\n",
    "def solve(n, A, b):\n",
    "    if b == 1:\n",
    "        return A\n",
    "    else:\n",
    "        C = solve(n, A, b//2)\n",
    "        if b % 2 == 0:\n",
    "            return mmult(n, C, C)\n",
    "        else:\n",
    "            return mmult(n, A, mmult(n, C, C))\n",
    "        \n",
    "\n",
    "N , B= map(int, input().split())\n",
    "A = [list(map(int, input().split())) for _ in range(N)]\n",
    "C = solve(N, A, B)\n",
    "for i in range(N):\n",
    "    print(*C[i])"
   ]
  },
  {
   "cell_type": "code",
   "execution_count": null,
   "id": "a115a964",
   "metadata": {},
   "outputs": [],
   "source": []
  }
 ],
 "metadata": {
  "kernelspec": {
   "display_name": "Python 3 (ipykernel)",
   "language": "python",
   "name": "python3"
  },
  "language_info": {
   "codemirror_mode": {
    "name": "ipython",
    "version": 3
   },
   "file_extension": ".py",
   "mimetype": "text/x-python",
   "name": "python",
   "nbconvert_exporter": "python",
   "pygments_lexer": "ipython3",
   "version": "3.11.4"
  }
 },
 "nbformat": 4,
 "nbformat_minor": 5
}
