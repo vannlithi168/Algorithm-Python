{
 "cells": [
  {
   "cell_type": "code",
   "execution_count": 1,
   "id": "2eb5ba14",
   "metadata": {},
   "outputs": [
    {
     "name": "stdout",
     "output_type": "stream",
     "text": [
      "10\n",
      "3628800\n",
      "slove() elapsed time: 0.0002532005310058594\n"
     ]
    }
   ],
   "source": [
    "def fact(n):\n",
    "    if n == 0:\n",
    "        return 1\n",
    "    else:\n",
    "        return n * fact(n - 1)\n",
    "\n",
    "import sys\n",
    "sys.setrecursionlimit(10**5)    \n",
    "N = int(input())\n",
    "\n",
    "\n",
    "import time\n",
    "\n",
    "start = time.time()\n",
    "print(fact(N))\n",
    "end = time.time()\n",
    "\n",
    "print(f'slove() elapsed time: {end - start}')"
   ]
  }
 ],
 "metadata": {
  "kernelspec": {
   "display_name": "Python 3 (ipykernel)",
   "language": "python",
   "name": "python3"
  },
  "language_info": {
   "codemirror_mode": {
    "name": "ipython",
    "version": 3
   },
   "file_extension": ".py",
   "mimetype": "text/x-python",
   "name": "python",
   "nbconvert_exporter": "python",
   "pygments_lexer": "ipython3",
   "version": "3.10.9"
  }
 },
 "nbformat": 4,
 "nbformat_minor": 5
}
