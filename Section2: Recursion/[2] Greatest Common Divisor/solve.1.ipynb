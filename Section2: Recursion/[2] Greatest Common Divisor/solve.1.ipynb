{
 "cells": [
  {
   "cell_type": "code",
   "execution_count": null,
   "metadata": {},
   "outputs": [],
   "source": [
    "def gcd(n, m):\n",
    "    if m == 0:\n",
    "        return n \n",
    "    else:\n",
    "        return gcd(m, n % m)\n",
    "\n",
    "N = int(input())\n",
    "M = int(input())\n",
    "print(gcd(N, M))"
   ]
  }
 ],
 "metadata": {
  "language_info": {
   "name": "python"
  },
  "orig_nbformat": 4
 },
 "nbformat": 4,
 "nbformat_minor": 2
}
