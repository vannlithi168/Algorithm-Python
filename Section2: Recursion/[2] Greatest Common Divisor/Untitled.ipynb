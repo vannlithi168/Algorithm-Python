{
 "cells": [
  {
   "cell_type": "code",
   "execution_count": 4,
   "id": "484baa97",
   "metadata": {},
   "outputs": [
    {
     "name": "stdout",
     "output_type": "stream",
     "text": [
      "2451966000072168\n",
      "485897929014301292\n",
      "408661000012028\n"
     ]
    }
   ],
   "source": [
    "#finding greatest common number\n",
    "def gcd(n, m):\n",
    "    if m == 0:\n",
    "        return n\n",
    "    else:\n",
    "        return gcd(m,n % m)\n",
    "\n",
    "N = int(input())\n",
    "M = int(input())\n",
    "print(gcd(N, M))"
   ]
  },
  {
   "cell_type": "code",
   "execution_count": 7,
   "id": "2c1528df",
   "metadata": {},
   "outputs": [
    {
     "name": "stdout",
     "output_type": "stream",
     "text": [
      "2451966000072168\n",
      "485897929014301292\n",
      "408661000012028\n"
     ]
    }
   ],
   "source": [
    "def gcd(n, m):\n",
    "    while m != 0:\n",
    "        n, m = m, n % m\n",
    "    return n\n",
    "\n",
    "N = int(input())\n",
    "M = int(input())\n",
    "print(gcd(N, M))"
   ]
  }
 ],
 "metadata": {
  "kernelspec": {
   "display_name": "Python 3 (ipykernel)",
   "language": "python",
   "name": "python3"
  },
  "language_info": {
   "codemirror_mode": {
    "name": "ipython",
    "version": 3
   },
   "file_extension": ".py",
   "mimetype": "text/x-python",
   "name": "python",
   "nbconvert_exporter": "python",
   "pygments_lexer": "ipython3",
   "version": "3.10.9"
  }
 },
 "nbformat": 4,
 "nbformat_minor": 5
}
