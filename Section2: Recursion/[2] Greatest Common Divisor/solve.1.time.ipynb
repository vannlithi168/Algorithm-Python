{
 "cells": [
  {
   "cell_type": "code",
   "execution_count": null,
   "metadata": {},
   "outputs": [],
   "source": [
    "def gcd(n, m):\n",
    "    if m == 0:\n",
    "        return n \n",
    "    else:\n",
    "        return gcd(m, n % m)\n",
    "\n",
    "N = int(input())\n",
    "M = int(input())\n",
    "\n",
    "import time\n",
    "start = time.time()\n",
    "print(gcd(N, M))\n",
    "end = time.time()\n",
    "print(f'slove() elapsed time: {end - start}')"
   ]
  }
 ],
 "metadata": {
  "language_info": {
   "name": "python"
  },
  "orig_nbformat": 4
 },
 "nbformat": 4,
 "nbformat_minor": 2
}
