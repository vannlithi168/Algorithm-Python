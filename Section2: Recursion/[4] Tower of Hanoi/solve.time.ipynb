{
 "cells": [
  {
   "cell_type": "code",
   "execution_count": null,
   "metadata": {},
   "outputs": [],
   "source": [
    "def hanoi(n, src, via, dst):\n",
    "    if n == 1:\n",
    "        print(f\"{src} -> {dst}\")\n",
    "    else:\n",
    "        hanoi(n - 1, src, dst, via)\n",
    "        hanoi(1, src, via, dst)\n",
    "        hanoi(n - 1, via, src, dst)\n",
    "\n",
    "N = int(input())\n",
    "\n",
    "import time\n",
    "\n",
    "start = time.time()\n",
    "hanoi(N, \"A\", \"B\", \"C\")\n",
    "end = time.time()\n",
    "\n",
    "print(f'slove() elapsed time: {end - start}')"
   ]
  }
 ],
 "metadata": {
  "language_info": {
   "name": "python"
  },
  "orig_nbformat": 4
 },
 "nbformat": 4,
 "nbformat_minor": 2
}
