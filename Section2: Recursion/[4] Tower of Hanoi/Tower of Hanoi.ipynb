{
 "cells": [
  {
   "cell_type": "code",
   "execution_count": 4,
   "id": "a31c55f6",
   "metadata": {},
   "outputs": [
    {
     "name": "stdout",
     "output_type": "stream",
     "text": [
      "3\n",
      "A -> C\n",
      "A -> B\n",
      "C -> B\n",
      "A -> C\n",
      "B -> A\n",
      "B -> C\n",
      "A -> C\n"
     ]
    }
   ],
   "source": [
    "def hanoi(n, src, via, dst):\n",
    "    if n == 1:\n",
    "        print(f\"{src} -> {dst}\")\n",
    "    else:\n",
    "        hanoi(n-1, src, dst, via)\n",
    "        hanoi(1, src, via, dst)\n",
    "        hanoi(n-1, via, src,dst)\n",
    "        \n",
    "N = int(input())\n",
    "hanoi(N, \"A\", \"B\", \"C\")"
   ]
  },
  {
   "cell_type": "code",
   "execution_count": 5,
   "id": "2c584051",
   "metadata": {},
   "outputs": [
    {
     "name": "stdout",
     "output_type": "stream",
     "text": [
      "3\n",
      "7\n"
     ]
    }
   ],
   "source": [
    "def hanoi(n, src, via, dst):\n",
    "    global cnt\n",
    "    if n==1:\n",
    "        cnt += 1\n",
    "    else:\n",
    "        hanoi(n-1, src, dst, via)\n",
    "        hanoi(1, src, via, dst)\n",
    "        hanoi(n-1, via, src, dst)\n",
    "        \n",
    "N = int(input())\n",
    "cnt = 0\n",
    "hanoi(N, \"A\", \"B\", \"C\")\n",
    "print(cnt)"
   ]
  }
 ],
 "metadata": {
  "kernelspec": {
   "display_name": "Python 3 (ipykernel)",
   "language": "python",
   "name": "python3"
  },
  "language_info": {
   "codemirror_mode": {
    "name": "ipython",
    "version": 3
   },
   "file_extension": ".py",
   "mimetype": "text/x-python",
   "name": "python",
   "nbconvert_exporter": "python",
   "pygments_lexer": "ipython3",
   "version": "3.10.9"
  }
 },
 "nbformat": 4,
 "nbformat_minor": 5
}
