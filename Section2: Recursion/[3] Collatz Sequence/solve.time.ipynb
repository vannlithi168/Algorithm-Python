{
 "cells": [
  {
   "cell_type": "code",
   "execution_count": null,
   "metadata": {},
   "outputs": [],
   "source": [
    "def collatz(n):\n",
    "    if n == 1:\n",
    "        return [1]\n",
    "    elif n % 2 == 0:\n",
    "        return [n] + collatz(n // 2)\n",
    "    else: # n % 2 == 1\n",
    "        return [n] + collatz(3*n + 1)\n",
    "    \n",
    "N = int(input())\n",
    "S = collatz(N)\n",
    "\n",
    "import time\n",
    "\n",
    "start = time.time()\n",
    "print(len(S))\n",
    "print(\" \".join(map(str, S)))\n",
    "end = time.time()\n",
    "\n",
    "print(f'slove() elapsed time: {end - start}')"
   ]
  }
 ],
 "metadata": {
  "language_info": {
   "name": "python"
  },
  "orig_nbformat": 4
 },
 "nbformat": 4,
 "nbformat_minor": 2
}
