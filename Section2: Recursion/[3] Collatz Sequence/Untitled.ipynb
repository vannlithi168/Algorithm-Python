{
 "cells": [
  {
   "cell_type": "code",
   "execution_count": 2,
   "id": "51d0d485",
   "metadata": {},
   "outputs": [
    {
     "name": "stdout",
     "output_type": "stream",
     "text": [
      "10\n",
      "7\n",
      "10 5 16 8 4 2 1\n"
     ]
    }
   ],
   "source": [
    "def collatz(n):\n",
    "    if n == 1:\n",
    "        return [1]\n",
    "    elif n % 2 == 0:\n",
    "        return [n] + collatz(n // 2)\n",
    "    else:\n",
    "        return [n] + collatz(3*n + 1)\n",
    "    \n",
    "N = int(input())\n",
    "S = collatz(N)\n",
    "print(len(S))\n",
    "print(\" \".join(map(str, S)))"
   ]
  }
 ],
 "metadata": {
  "kernelspec": {
   "display_name": "Python 3 (ipykernel)",
   "language": "python",
   "name": "python3"
  },
  "language_info": {
   "codemirror_mode": {
    "name": "ipython",
    "version": 3
   },
   "file_extension": ".py",
   "mimetype": "text/x-python",
   "name": "python",
   "nbconvert_exporter": "python",
   "pygments_lexer": "ipython3",
   "version": "3.10.9"
  }
 },
 "nbformat": 4,
 "nbformat_minor": 5
}
