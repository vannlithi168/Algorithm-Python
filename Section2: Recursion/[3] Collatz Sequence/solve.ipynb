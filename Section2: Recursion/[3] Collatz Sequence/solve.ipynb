{
 "cells": [
  {
   "cell_type": "code",
   "execution_count": null,
   "metadata": {},
   "outputs": [],
   "source": [
    "def gcd(n, m):\n",
    "    while m != 0:\n",
    "        n, m = m, n % m\n",
    "    return n\n",
    "\n",
    "N = int(input())\n",
    "M = int(input())\n",
    "\n",
    "import time\n",
    "start = time.time()\n",
    "print(gcd(N, M))\n",
    "end = time.time()\n",
    "print(f'slove() elapsed time: {end - start}')"
   ]
  }
 ],
 "metadata": {
  "language_info": {
   "name": "python"
  },
  "orig_nbformat": 4
 },
 "nbformat": 4,
 "nbformat_minor": 2
}
