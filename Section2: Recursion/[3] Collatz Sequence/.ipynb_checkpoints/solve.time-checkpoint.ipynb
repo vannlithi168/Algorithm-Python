{
 "cells": [
  {
   "cell_type": "code",
   "execution_count": null,
   "metadata": {},
   "outputs": [],
   "source": [
    "def collatz(n):\n",
    "    if n == 1:\n",
    "        return [1]\n",
    "    elif n % 2 == 0:\n",
    "        return [n] + collatz(n // 2)\n",
    "    else: # n % 2 == 1\n",
    "        return [n] + collatz(3*n + 1)\n",
    "    \n",
    "N = int(input())\n",
    "S = collatz(N)\n",
    "\n",
    "import time\n",
    "\n",
    "start = time.time()\n",
    "print(len(S))\n",
    "print(\" \".join(map(str, S)))\n",
    "end = time.time()\n",
    "\n",
    "print(f'slove() elapsed time: {end - start}')"
   ]
  }
 ],
 "metadata": {
  "kernelspec": {
   "display_name": "Python 3 (ipykernel)",
   "language": "python",
   "name": "python3"
  },
  "language_info": {
   "codemirror_mode": {
    "name": "ipython",
    "version": 3
   },
   "file_extension": ".py",
   "mimetype": "text/x-python",
   "name": "python",
   "nbconvert_exporter": "python",
   "pygments_lexer": "ipython3",
   "version": "3.10.9"
  }
 },
 "nbformat": 4,
 "nbformat_minor": 2
}
