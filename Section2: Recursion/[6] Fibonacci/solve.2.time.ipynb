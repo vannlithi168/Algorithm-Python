{
 "cells": [
  {
   "cell_type": "code",
   "execution_count": null,
   "metadata": {},
   "outputs": [],
   "source": [
    "def fib(n):\n",
    "    if n == 1 or n == 2:\n",
    "        return 1\n",
    "    else:\n",
    "        a, b = 1, 1\n",
    "        for _ in range(3, n + 1):\n",
    "            a, b = b, a + b\n",
    "        return b\n",
    "            \n",
    "N = int(input())\n",
    "\n",
    "\n",
    "import time\n",
    "start = time.time()\n",
    "print(fib(N))\n",
    "end = time.time()\n",
    "print(f'slove() elapsed time: {end - start}')"
   ]
  }
 ],
 "metadata": {
  "language_info": {
   "name": "python"
  },
  "orig_nbformat": 4
 },
 "nbformat": 4,
 "nbformat_minor": 2
}
