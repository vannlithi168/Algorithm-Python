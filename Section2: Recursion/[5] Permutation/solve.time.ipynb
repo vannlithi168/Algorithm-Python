{
 "cells": [
  {
   "cell_type": "code",
   "execution_count": null,
   "metadata": {},
   "outputs": [],
   "source": [
    "def perm(i, n, s):\n",
    "    if i == n - 1:\n",
    "        print(\"\".join(s))\n",
    "    else:\n",
    "        for j in range(i, n):\n",
    "            s[i], s[j] = s[j], s[i] # swap\n",
    "            perm(i + 1, n, S)\n",
    "            s[i], s[j] = s[j], s[i] # swap\n",
    "\n",
    "N = int(input())\n",
    "S = [chr(ord('A') + i) for i in range(N)]\n",
    "\n",
    "\n",
    "import time\n",
    "\n",
    "start = time.time()\n",
    "perm(0, N, S)\n",
    "end = time.time()\n",
    "\n",
    "print(f'slove() elapsed time: {end - start}')"
   ]
  }
 ],
 "metadata": {
  "language_info": {
   "name": "python"
  },
  "orig_nbformat": 4
 },
 "nbformat": 4,
 "nbformat_minor": 2
}
