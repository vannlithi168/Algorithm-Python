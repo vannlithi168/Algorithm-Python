{
 "cells": [
  {
   "cell_type": "code",
   "execution_count": 96,
   "id": "0b79ce7e",
   "metadata": {},
   "outputs": [
    {
     "name": "stdout",
     "output_type": "stream",
     "text": [
      "1 100\n",
      "5050\n"
     ]
    }
   ],
   "source": [
    "#1\n",
    "N, M = map(int,input().split())\n",
    "result = 0\n",
    "for i in range(N , M + 1):\n",
    "    result += i\n",
    "print(result)"
   ]
  },
  {
   "cell_type": "code",
   "execution_count": 54,
   "id": "ed0b0899",
   "metadata": {},
   "outputs": [
    {
     "name": "stdout",
     "output_type": "stream",
     "text": [
      "141 16\n"
     ]
    }
   ],
   "source": [
    "#2\n",
    "import random\n",
    "SEED, MIN, MAX, N=1987,123,4567,89\n",
    "random.seed(SEED)\n",
    "S=random.sample(range(MIN, MAX), N)\n",
    "\n",
    "for i in S:\n",
    "    m = min(S)\n",
    "    n = S.index(min(S))\n",
    "print(m,n)"
   ]
  },
  {
   "cell_type": "code",
   "execution_count": 8,
   "id": "4a57419c",
   "metadata": {},
   "outputs": [
    {
     "name": "stdout",
     "output_type": "stream",
     "text": [
      "1234567890\n",
      "Sum of all divisors of N: 3211610688\n"
     ]
    }
   ],
   "source": [
    "#3\n",
    "import math\n",
    "\n",
    "def sum_of_divisors(n):\n",
    "    sqrtn = math.isqrt(n)\n",
    "    divisors = []\n",
    "    \n",
    "    for i in range(1, sqrtn + 1):\n",
    "        if n % i == 0:\n",
    "            divisors.append(i)\n",
    "            if i != sqrtn:  \n",
    "                divisors.append(n // i)\n",
    "\n",
    "    return sum(divisors)\n",
    "\n",
    "N = int(input())\n",
    "result = sum_of_divisors(N)\n",
    "\n",
    "print(\"Sum of all divisors of N:\", result)\n"
   ]
  },
  {
   "cell_type": "code",
   "execution_count": 23,
   "id": "05d39fde",
   "metadata": {},
   "outputs": [
    {
     "name": "stdout",
     "output_type": "stream",
     "text": [
      "2147483647 4294967295\n",
      "4294967291 4294967279 4294967231 4294967197 4294967189 "
     ]
    }
   ],
   "source": [
    "#4\n",
    "def is_prime(n):\n",
    "    if n <= 1:\n",
    "        return False\n",
    "    for i in range(2, int(n**0.5) + 1):\n",
    "        if n % i == 0:\n",
    "            return False\n",
    "    return True\n",
    "N, M = map(int, input().split())\n",
    "count = 5\n",
    "largest_primes = []\n",
    "for num in range(M, N - 1, -1):\n",
    "    if is_prime(num):\n",
    "        largest_primes.append(num)\n",
    "        if len(largest_primes) == count:\n",
    "            break\n",
    "for prime in largest_primes:\n",
    "    print(prime , end=\" \")\n",
    "\n"
   ]
  },
  {
   "cell_type": "code",
   "execution_count": null,
   "id": "91424298",
   "metadata": {},
   "outputs": [],
   "source": [
    "#5"
   ]
  },
  {
   "cell_type": "code",
   "execution_count": 28,
   "id": "430090ea",
   "metadata": {},
   "outputs": [
    {
     "name": "stdout",
     "output_type": "stream",
     "text": [
      "Enter a number: 20\n",
      "Sum of divisors: 42\n"
     ]
    }
   ],
   "source": [
    "#6\n",
    "def divisor(N):\n",
    "    div = 0\n",
    "    sqrtn = int(N ** 0.5)\n",
    "    for i in range(1, sqrtn+ 1):\n",
    "        if N % i == 0:\n",
    "            div += i + N // i\n",
    "    return div\n",
    "N = int(input(\"Enter a number: \"))\n",
    "print(\"Sum of divisors:\", divisor(N))"
   ]
  },
  {
   "cell_type": "code",
   "execution_count": null,
   "id": "e1c208c3",
   "metadata": {},
   "outputs": [],
   "source": [
    "#7"
   ]
  },
  {
   "cell_type": "code",
   "execution_count": 41,
   "id": "182e5a20",
   "metadata": {},
   "outputs": [
    {
     "name": "stdout",
     "output_type": "stream",
     "text": [
      "Enter M: 10\n",
      "([(3, 5), (5, 7)], 2)\n"
     ]
    }
   ],
   "source": [
    "#8"
   ]
  },
  {
   "cell_type": "code",
   "execution_count": 40,
   "id": "c1ba6f73",
   "metadata": {},
   "outputs": [
    {
     "name": "stdout",
     "output_type": "stream",
     "text": [
      "10\n",
      "3\n",
      "7\n"
     ]
    }
   ],
   "source": [
    "#9\n",
    "def is_prime(num):\n",
    "    if num <= 1:\n",
    "        return False\n",
    "    for i in range(2, int(num ** 0.5) + 1):\n",
    "        if num % i == 0:\n",
    "            return False\n",
    "    return True\n",
    "\n",
    "def mersenne_primes(N):\n",
    "    mersenne_primes_list = []\n",
    "    p = 2\n",
    "    while True:\n",
    "        mersenne_number = 2**p - 1\n",
    "        if mersenne_number > N:\n",
    "            break\n",
    "        if is_prime(mersenne_number):\n",
    "            mersenne_primes_list.append(mersenne_number)\n",
    "        p += 1\n",
    "    return mersenne_primes_list\n",
    "\n",
    "N = int(input(\"\"))\n",
    "mersenne_primes_list = mersenne_primes(N)\n",
    "for mersenne_prime in mersenne_primes_list:\n",
    "    print(mersenne_prime)"
   ]
  },
  {
   "cell_type": "code",
   "execution_count": 37,
   "id": "fa3e2fd9",
   "metadata": {},
   "outputs": [
    {
     "name": "stdout",
     "output_type": "stream",
     "text": [
      "Enter numbers seperatd by space: 19 130 37 20 21\n",
      "19 is a prime number.\n",
      "130 is a composite number.\n",
      "37 is a prime number.\n",
      "20 is a composite number.\n",
      "21 is a composite number.\n"
     ]
    }
   ],
   "source": [
    "#10\n",
    "def is_prime(n):\n",
    "    if n <= 1:\n",
    "        return False\n",
    "    for i in range(2, int(n**0.5) + 1):\n",
    "        if n % i == 0:\n",
    "            return False\n",
    "    return True\n",
    "\n",
    "input_numbers_str = input(\"Enter numbers seperatd by space: \")\n",
    "input_numbers = [int(num) for num in input_numbers_str.split()]\n",
    "\n",
    "for number_to_check in input_numbers:\n",
    "    if is_prime(number_to_check):\n",
    "        print(f\"{number_to_check} is a prime number.\")\n",
    "    else:\n",
    "        print(f\"{number_to_check} is a composite number.\")"
   ]
  },
  {
   "cell_type": "code",
   "execution_count": 38,
   "id": "5572564b",
   "metadata": {},
   "outputs": [
    {
     "name": "stdout",
     "output_type": "stream",
     "text": [
      "12 \n",
      "710\n",
      "7\n",
      "257\n",
      "319\n",
      "12 is a composite number.\n",
      "\n",
      "710 is a composite number.\n",
      "\n",
      "7 is prime number.\n",
      "\n",
      "257 is prime number.\n",
      "\n",
      "319 is a composite number.\n",
      "\n"
     ]
    }
   ],
   "source": [
    "#10\n",
    "def is_prime(num):\n",
    "    if num <= 1:\n",
    "        return False\n",
    "    for i in range(2, int(num ** 0.5) + 1):\n",
    "        if num % i == 0:\n",
    "            return False\n",
    "    return True\n",
    "\n",
    "numbers = []\n",
    "for i in range(5):\n",
    "    numbers.append(int(input()))\n",
    "\n",
    "for n in numbers:\n",
    "    if is_prime(n):\n",
    "        print(f\"{n} is prime number.\")\n",
    "    else:\n",
    "        print(f\"{n} is a composite number.\")\n",
    "    print()"
   ]
  },
  {
   "cell_type": "code",
   "execution_count": null,
   "id": "337e0ba4",
   "metadata": {},
   "outputs": [],
   "source": [
    "#11"
   ]
  },
  {
   "cell_type": "code",
   "execution_count": null,
   "id": "42a63505",
   "metadata": {},
   "outputs": [],
   "source": [
    "#12"
   ]
  },
  {
   "cell_type": "code",
   "execution_count": null,
   "id": "18f20651",
   "metadata": {},
   "outputs": [],
   "source": [
    "#13"
   ]
  },
  {
   "cell_type": "code",
   "execution_count": null,
   "id": "10a57cd4",
   "metadata": {},
   "outputs": [],
   "source": [
    "#14"
   ]
  }
 ],
 "metadata": {
  "kernelspec": {
   "display_name": "Python 3 (ipykernel)",
   "language": "python",
   "name": "python3"
  },
  "language_info": {
   "codemirror_mode": {
    "name": "ipython",
    "version": 3
   },
   "file_extension": ".py",
   "mimetype": "text/x-python",
   "name": "python",
   "nbconvert_exporter": "python",
   "pygments_lexer": "ipython3",
   "version": "3.10.9"
  }
 },
 "nbformat": 4,
 "nbformat_minor": 5
}
