{
 "cells": [
  {
   "cell_type": "code",
   "execution_count": null,
   "id": "0e491409",
   "metadata": {},
   "outputs": [],
   "source": [
    "#1"
   ]
  },
  {
   "cell_type": "code",
   "execution_count": null,
   "id": "b6ce4f9e",
   "metadata": {},
   "outputs": [],
   "source": [
    "#2"
   ]
  },
  {
   "cell_type": "code",
   "execution_count": null,
   "id": "0ca9203d",
   "metadata": {},
   "outputs": [],
   "source": [
    "#3"
   ]
  },
  {
   "cell_type": "code",
   "execution_count": null,
   "id": "e93ff122",
   "metadata": {},
   "outputs": [],
   "source": [
    "#4"
   ]
  },
  {
   "cell_type": "code",
   "execution_count": null,
   "id": "80402e30",
   "metadata": {},
   "outputs": [],
   "source": [
    "#5"
   ]
  },
  {
   "cell_type": "markdown",
   "id": "6ac3d43d",
   "metadata": {},
   "source": [
    "# 6"
   ]
  },
  {
   "cell_type": "code",
   "execution_count": 47,
   "id": "ac84f002",
   "metadata": {},
   "outputs": [
    {
     "name": "stdout",
     "output_type": "stream",
     "text": [
      "4\n",
      "1*2*3*4\n"
     ]
    }
   ],
   "source": [
    "N = int(input())\n",
    "\n",
    "result = 1\n",
    "process = \"\"\n",
    "\n",
    "for i in range(1, N + 1):\n",
    "    result *= i\n",
    "    process += str(i)\n",
    "    if i < N:\n",
    "        process += \"*\"\n",
    "\n",
    "print(process)\n"
   ]
  },
  {
   "cell_type": "markdown",
   "id": "1f5fb6c1",
   "metadata": {},
   "source": [
    "# 7"
   ]
  },
  {
   "cell_type": "code",
   "execution_count": 1,
   "id": "bb5bbef7",
   "metadata": {},
   "outputs": [
    {
     "name": "stdout",
     "output_type": "stream",
     "text": [
      "6\n",
      "720\n"
     ]
    }
   ],
   "source": [
    "def fact(n):\n",
    "    if n == 0:\n",
    "        return 1\n",
    "    else:\n",
    "        return n * fact(n-1)\n",
    "    \n",
    "import sys\n",
    "sys.setrecursionlimit(10**5)\n",
    "\n",
    "N = int(input())\n",
    "\n",
    "print(fact(N))"
   ]
  },
  {
   "cell_type": "code",
   "execution_count": 35,
   "id": "bc52bf3d",
   "metadata": {},
   "outputs": [
    {
     "name": "stdout",
     "output_type": "stream",
     "text": [
      "6\n",
      "6! = (1*2*3*4*5*6) = 720\n"
     ]
    }
   ],
   "source": [
    "#8\n",
    "def fact(n):\n",
    "    if n == 0:\n",
    "        return 1\n",
    "    else:\n",
    "        return n * fact(n-1)\n",
    "    \n",
    "import sys\n",
    "sys.setrecursionlimit(10**5)\n",
    "\n",
    "N = int(input())\n",
    "\n",
    "print(f\"{N}! = ({'*'.join(map(str, range(1, N+1)))}) = {fact(N)}\")"
   ]
  },
  {
   "cell_type": "code",
   "execution_count": 26,
   "id": "b0893dc1",
   "metadata": {},
   "outputs": [],
   "source": [
    "#9"
   ]
  },
  {
   "cell_type": "code",
   "execution_count": 24,
   "id": "acde7f56",
   "metadata": {},
   "outputs": [],
   "source": [
    "#10"
   ]
  },
  {
   "cell_type": "markdown",
   "id": "086db804",
   "metadata": {},
   "source": [
    "# 11"
   ]
  },
  {
   "cell_type": "code",
   "execution_count": 25,
   "id": "15acbd8a",
   "metadata": {},
   "outputs": [
    {
     "name": "stdout",
     "output_type": "stream",
     "text": [
      "20\n",
      "6765\n"
     ]
    }
   ],
   "source": [
    "def fib(n):\n",
    "    if n == 1 or n == 2:\n",
    "        return 1\n",
    "    else:\n",
    "        return fib(n - 1) + fib(n - 2)\n",
    "\n",
    "N = int(input())\n",
    "print(fib(N))"
   ]
  },
  {
   "cell_type": "code",
   "execution_count": null,
   "id": "da07aca2",
   "metadata": {},
   "outputs": [],
   "source": [
    "#12"
   ]
  },
  {
   "cell_type": "markdown",
   "id": "2eb3c3ea",
   "metadata": {},
   "source": [
    "# 13"
   ]
  },
  {
   "cell_type": "code",
   "execution_count": 23,
   "id": "4ec0acfa",
   "metadata": {},
   "outputs": [
    {
     "name": "stdout",
     "output_type": "stream",
     "text": [
      "100\n",
      "5050\n"
     ]
    }
   ],
   "source": [
    "n=int(input())\n",
    "for i in range(1, n):\n",
    "    n+=i\n",
    "print(n)"
   ]
  },
  {
   "cell_type": "markdown",
   "id": "082e8c3c",
   "metadata": {},
   "source": [
    "# 14"
   ]
  },
  {
   "cell_type": "code",
   "execution_count": 54,
   "id": "ca0a9a45",
   "metadata": {},
   "outputs": [
    {
     "name": "stdout",
     "output_type": "stream",
     "text": [
      "20\n",
      "0\n",
      "1\n",
      "2\n",
      "3\n",
      "4\n",
      "5\n",
      "6\n",
      "7\n",
      "8\n",
      "9\n",
      "10\n",
      "11\n",
      "12\n",
      "13\n",
      "14\n",
      "15\n",
      "16\n",
      "17\n",
      "18\n",
      "19\n",
      "20\n"
     ]
    }
   ],
   "source": [
    "def print_numbers_recursive(n, current=0):\n",
    "    if current <= n:\n",
    "        print(current)\n",
    "        print_numbers_recursive(n, current + 1)\n",
    "\n",
    "n = int(input())\n",
    "print_numbers_recursive(n)"
   ]
  },
  {
   "cell_type": "code",
   "execution_count": 50,
   "id": "b91812b4",
   "metadata": {},
   "outputs": [
    {
     "name": "stdout",
     "output_type": "stream",
     "text": [
      "20\n",
      "1\n",
      "2\n",
      "3\n",
      "4\n",
      "5\n",
      "6\n",
      "7\n",
      "8\n",
      "9\n",
      "10\n",
      "11\n",
      "12\n",
      "13\n",
      "14\n",
      "15\n",
      "16\n",
      "17\n",
      "18\n",
      "19\n",
      "20\n"
     ]
    }
   ],
   "source": [
    "#15\n",
    "n = int(input())\n",
    "for i in range(1, n+1):\n",
    "    print(i)"
   ]
  },
  {
   "cell_type": "code",
   "execution_count": 15,
   "id": "2d16ab97",
   "metadata": {},
   "outputs": [
    {
     "name": "stdout",
     "output_type": "stream",
     "text": [
      "10\n",
      "10 9 8 7 6 5 4 3 2 1 "
     ]
    }
   ],
   "source": [
    "#16\n",
    "def reverse_order(n):\n",
    "    if n == 0:\n",
    "        return\n",
    "    else:\n",
    "        print(n, end=\" \")\n",
    "        reverse_order(n - 1)\n",
    "        \n",
    "n = int(input())\n",
    "reverse_order(n)\n"
   ]
  },
  {
   "cell_type": "code",
   "execution_count": null,
   "id": "09e277c8",
   "metadata": {},
   "outputs": [],
   "source": [
    "#17"
   ]
  },
  {
   "cell_type": "code",
   "execution_count": null,
   "id": "d77d1835",
   "metadata": {},
   "outputs": [],
   "source": [
    "#18"
   ]
  },
  {
   "cell_type": "code",
   "execution_count": null,
   "id": "a5706a10",
   "metadata": {},
   "outputs": [],
   "source": [
    "#19"
   ]
  },
  {
   "cell_type": "code",
   "execution_count": null,
   "id": "5c30f46d",
   "metadata": {},
   "outputs": [],
   "source": [
    "#20"
   ]
  },
  {
   "cell_type": "code",
   "execution_count": null,
   "id": "99f87253",
   "metadata": {},
   "outputs": [],
   "source": [
    "#21"
   ]
  },
  {
   "cell_type": "code",
   "execution_count": null,
   "id": "44ef7a45",
   "metadata": {},
   "outputs": [],
   "source": [
    "#22"
   ]
  },
  {
   "cell_type": "code",
   "execution_count": null,
   "id": "987ac40e",
   "metadata": {},
   "outputs": [],
   "source": [
    "#23"
   ]
  },
  {
   "cell_type": "code",
   "execution_count": null,
   "id": "9cb86f61",
   "metadata": {},
   "outputs": [],
   "source": [
    "#24"
   ]
  },
  {
   "cell_type": "code",
   "execution_count": null,
   "id": "a24ee6e4",
   "metadata": {},
   "outputs": [],
   "source": [
    "#25"
   ]
  },
  {
   "cell_type": "code",
   "execution_count": null,
   "id": "ef9d8278",
   "metadata": {},
   "outputs": [],
   "source": [
    "#26"
   ]
  }
 ],
 "metadata": {
  "kernelspec": {
   "display_name": "Python 3 (ipykernel)",
   "language": "python",
   "name": "python3"
  },
  "language_info": {
   "codemirror_mode": {
    "name": "ipython",
    "version": 3
   },
   "file_extension": ".py",
   "mimetype": "text/x-python",
   "name": "python",
   "nbconvert_exporter": "python",
   "pygments_lexer": "ipython3",
   "version": "3.10.9"
  }
 },
 "nbformat": 4,
 "nbformat_minor": 5
}
