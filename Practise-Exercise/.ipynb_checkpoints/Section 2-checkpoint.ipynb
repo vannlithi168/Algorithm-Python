{
 "cells": [
  {
   "cell_type": "code",
   "execution_count": null,
   "id": "3ffd8ea9",
   "metadata": {},
   "outputs": [],
   "source": [
    "#1"
   ]
  },
  {
   "cell_type": "code",
   "execution_count": null,
   "id": "fb5c8e6c",
   "metadata": {},
   "outputs": [],
   "source": [
    "#2"
   ]
  },
  {
   "cell_type": "code",
   "execution_count": null,
   "id": "05b62d01",
   "metadata": {},
   "outputs": [],
   "source": [
    "#3"
   ]
  },
  {
   "cell_type": "code",
   "execution_count": null,
   "id": "34f42a3d",
   "metadata": {},
   "outputs": [],
   "source": [
    "#4"
   ]
  },
  {
   "cell_type": "code",
   "execution_count": null,
   "id": "3b01c0f8",
   "metadata": {},
   "outputs": [],
   "source": [
    "#5"
   ]
  },
  {
   "cell_type": "markdown",
   "id": "01ef13eb",
   "metadata": {},
   "source": [
    "# 6"
   ]
  },
  {
   "cell_type": "code",
   "execution_count": 47,
   "id": "6d2a9e7d",
   "metadata": {},
   "outputs": [
    {
     "name": "stdout",
     "output_type": "stream",
     "text": [
      "4\n",
      "1*2*3*4\n"
     ]
    }
   ],
   "source": [
    "N = int(input())\n",
    "\n",
    "result = 1\n",
    "process = \"\"\n",
    "\n",
    "for i in range(1, N + 1):\n",
    "    result *= i\n",
    "    process += str(i)\n",
    "    if i < N:\n",
    "        process += \"*\"\n",
    "\n",
    "print(process)\n"
   ]
  },
  {
   "cell_type": "markdown",
   "id": "be5c6547",
   "metadata": {},
   "source": [
    "# 7"
   ]
  },
  {
   "cell_type": "code",
   "execution_count": 1,
   "id": "44a511a1",
   "metadata": {},
   "outputs": [
    {
     "name": "stdout",
     "output_type": "stream",
     "text": [
      "6\n",
      "720\n"
     ]
    }
   ],
   "source": [
    "def fact(n):\n",
    "    if n == 0:\n",
    "        return 1\n",
    "    else:\n",
    "        return n * fact(n-1)\n",
    "    \n",
    "import sys\n",
    "sys.setrecursionlimit(10**5)\n",
    "\n",
    "N = int(input())\n",
    "\n",
    "print(fact(N))"
   ]
  },
  {
   "cell_type": "code",
   "execution_count": 35,
   "id": "7247ece8",
   "metadata": {},
   "outputs": [
    {
     "name": "stdout",
     "output_type": "stream",
     "text": [
      "6\n",
      "6! = (1*2*3*4*5*6) = 720\n"
     ]
    }
   ],
   "source": [
    "#8\n",
    "def fact(n):\n",
    "    if n == 0:\n",
    "        return 1\n",
    "    else:\n",
    "        return n * fact(n-1)\n",
    "    \n",
    "import sys\n",
    "sys.setrecursionlimit(10**5)\n",
    "\n",
    "N = int(input())\n",
    "\n",
    "print(f\"{N}! = ({'*'.join(map(str, range(1, N+1)))}) = {fact(N)}\")"
   ]
  },
  {
   "cell_type": "code",
   "execution_count": 26,
   "id": "537b6679",
   "metadata": {},
   "outputs": [],
   "source": [
    "#9"
   ]
  },
  {
   "cell_type": "code",
   "execution_count": 24,
   "id": "bade0e85",
   "metadata": {},
   "outputs": [],
   "source": [
    "#10"
   ]
  },
  {
   "cell_type": "markdown",
   "id": "e7e4862f",
   "metadata": {},
   "source": [
    "# 11"
   ]
  },
  {
   "cell_type": "code",
   "execution_count": 25,
   "id": "31fbb371",
   "metadata": {},
   "outputs": [
    {
     "name": "stdout",
     "output_type": "stream",
     "text": [
      "20\n",
      "6765\n"
     ]
    }
   ],
   "source": [
    "def fib(n):\n",
    "    if n == 1 or n == 2:\n",
    "        return 1\n",
    "    else:\n",
    "        return fib(n - 1) + fib(n - 2)\n",
    "\n",
    "N = int(input())\n",
    "print(fib(N))"
   ]
  },
  {
   "cell_type": "code",
   "execution_count": null,
   "id": "33490213",
   "metadata": {},
   "outputs": [],
   "source": [
    "#12"
   ]
  },
  {
   "cell_type": "markdown",
   "id": "3b351a18",
   "metadata": {},
   "source": [
    "# 13"
   ]
  },
  {
   "cell_type": "code",
   "execution_count": 23,
   "id": "15813153",
   "metadata": {},
   "outputs": [
    {
     "name": "stdout",
     "output_type": "stream",
     "text": [
      "100\n",
      "5050\n"
     ]
    }
   ],
   "source": [
    "n=int(input())\n",
    "for i in range(1, n):\n",
    "    n+=i\n",
    "print(n)"
   ]
  },
  {
   "cell_type": "markdown",
   "id": "e38de2bd",
   "metadata": {},
   "source": [
    "# 14"
   ]
  },
  {
   "cell_type": "code",
   "execution_count": 54,
   "id": "63462f32",
   "metadata": {},
   "outputs": [
    {
     "name": "stdout",
     "output_type": "stream",
     "text": [
      "20\n",
      "0\n",
      "1\n",
      "2\n",
      "3\n",
      "4\n",
      "5\n",
      "6\n",
      "7\n",
      "8\n",
      "9\n",
      "10\n",
      "11\n",
      "12\n",
      "13\n",
      "14\n",
      "15\n",
      "16\n",
      "17\n",
      "18\n",
      "19\n",
      "20\n"
     ]
    }
   ],
   "source": [
    "def print_numbers_recursive(n, current=0):\n",
    "    if current <= n:\n",
    "        print(current)\n",
    "        print_numbers_recursive(n, current + 1)\n",
    "\n",
    "n = int(input())\n",
    "print_numbers_recursive(n)"
   ]
  },
  {
   "cell_type": "markdown",
   "id": "85374e8d",
   "metadata": {},
   "source": [
    "# 15"
   ]
  },
  {
   "cell_type": "code",
   "execution_count": 50,
   "id": "9985fb99",
   "metadata": {},
   "outputs": [
    {
     "name": "stdout",
     "output_type": "stream",
     "text": [
      "20\n",
      "1\n",
      "2\n",
      "3\n",
      "4\n",
      "5\n",
      "6\n",
      "7\n",
      "8\n",
      "9\n",
      "10\n",
      "11\n",
      "12\n",
      "13\n",
      "14\n",
      "15\n",
      "16\n",
      "17\n",
      "18\n",
      "19\n",
      "20\n"
     ]
    }
   ],
   "source": [
    "n = int(input())\n",
    "for i in range(1, n+1):\n",
    "    print(i)"
   ]
  },
  {
   "cell_type": "markdown",
   "id": "6445bb75",
   "metadata": {},
   "source": [
    "# 16"
   ]
  },
  {
   "cell_type": "code",
   "execution_count": 15,
   "id": "a1bdad2c",
   "metadata": {},
   "outputs": [
    {
     "name": "stdout",
     "output_type": "stream",
     "text": [
      "10\n",
      "10 9 8 7 6 5 4 3 2 1 "
     ]
    }
   ],
   "source": [
    "def reverse_order(n):\n",
    "    if n == 0:\n",
    "        return\n",
    "    else:\n",
    "        print(n, end=\" \")\n",
    "        reverse_order(n - 1)\n",
    "        \n",
    "n = int(input())\n",
    "reverse_order(n)\n"
   ]
  },
  {
   "cell_type": "code",
   "execution_count": null,
   "id": "88d58146",
   "metadata": {},
   "outputs": [],
   "source": [
    "#17"
   ]
  },
  {
   "cell_type": "code",
   "execution_count": null,
   "id": "536c5cc6",
   "metadata": {},
   "outputs": [],
   "source": [
    "#18"
   ]
  },
  {
   "cell_type": "code",
   "execution_count": 6,
   "id": "87dddb48",
   "metadata": {},
   "outputs": [
    {
     "name": "stdout",
     "output_type": "stream",
     "text": [
      "A B C D E F G H I J K L M N O P Q R S T U V W X Y Z\n",
      "A B C D E F G H I J K L M N O P Q R S T U V W X Y\n",
      "A B C D E F G H I J K L M N O P Q R S T U V W X\n",
      "A B C D E F G H I J K L M N O P Q R S T U V W\n",
      "A B C D E F G H I J K L M N O P Q R S T U V\n",
      "A B C D E F G H I J K L M N O P Q R S T U\n",
      "A B C D E F G H I J K L M N O P Q R S T\n",
      "A B C D E F G H I J K L M N O P Q R S\n",
      "A B C D E F G H I J K L M N O P Q R\n",
      "A B C D E F G H I J K L M N O P Q\n",
      "A B C D E F G H I J K L M N O P\n",
      "A B C D E F G H I J K L M N O\n",
      "A B C D E F G H I J K L M N\n",
      "A B C D E F G H I J K L M\n",
      "A B C D E F G H I J K L\n",
      "A B C D E F G H I J K\n",
      "A B C D E F G H I J\n",
      "A B C D E F G H I\n",
      "A B C D E F G H\n",
      "A B C D E F G\n",
      "A B C D E F\n",
      "A B C D E\n",
      "A B C D\n",
      "A B C\n",
      "A B\n",
      "A\n"
     ]
    }
   ],
   "source": [
    "#19\n",
    "\n",
    "for i in range(len(string.ascii_uppercase), 0, -1):\n",
    "    print(' '.join(string.ascii_uppercase[:i]))\n"
   ]
  },
  {
   "cell_type": "code",
   "execution_count": null,
   "id": "b3c80ad5",
   "metadata": {},
   "outputs": [],
   "source": [
    "#20"
   ]
  },
  {
   "cell_type": "markdown",
   "id": "ef0b6261",
   "metadata": {},
   "source": [
    "# 21"
   ]
  },
  {
   "cell_type": "code",
   "execution_count": 3,
   "id": "fdbd670d",
   "metadata": {},
   "outputs": [
    {
     "name": "stdout",
     "output_type": "stream",
     "text": [
      "3484279\n",
      "9 7 2 4 8 4 3\n"
     ]
    }
   ],
   "source": [
    "user = input()\n",
    "num = list(map(int, str(user)))\n",
    "\n",
    "num.reverse()\n",
    "print(' '.join(map(str, num)))\n"
   ]
  },
  {
   "cell_type": "markdown",
   "id": "67cd9a77",
   "metadata": {},
   "source": [
    "# 22"
   ]
  },
  {
   "cell_type": "code",
   "execution_count": 1,
   "id": "5c2277d6",
   "metadata": {},
   "outputs": [
    {
     "name": "stdout",
     "output_type": "stream",
     "text": [
      "24 64\n",
      "8\n"
     ]
    }
   ],
   "source": [
    "def euclidean_algorithm(x, y):\n",
    "    while y != 0:\n",
    "        x, y = y, x % y\n",
    "    return x\n",
    "\n",
    "num1, num2 = map(int, input().split())\n",
    "gcd = euclidean_algorithm(num1, num2)\n",
    "print(gcd)\n"
   ]
  },
  {
   "cell_type": "code",
   "execution_count": null,
   "id": "3490e28e",
   "metadata": {},
   "outputs": [],
   "source": [
    "#23"
   ]
  },
  {
   "cell_type": "code",
   "execution_count": null,
   "id": "77bcc2c0",
   "metadata": {},
   "outputs": [],
   "source": [
    "#24"
   ]
  },
  {
   "cell_type": "code",
   "execution_count": null,
   "id": "573bd4da",
   "metadata": {},
   "outputs": [],
   "source": [
    "#25"
   ]
  },
  {
   "cell_type": "code",
   "execution_count": 27,
   "id": "dfefd4f5",
   "metadata": {},
   "outputs": [],
   "source": [
    "#26"
   ]
  }
 ],
 "metadata": {
  "kernelspec": {
   "display_name": "Python 3 (ipykernel)",
   "language": "python",
   "name": "python3"
  },
  "language_info": {
   "codemirror_mode": {
    "name": "ipython",
    "version": 3
   },
   "file_extension": ".py",
   "mimetype": "text/x-python",
   "name": "python",
   "nbconvert_exporter": "python",
   "pygments_lexer": "ipython3",
   "version": "3.10.9"
  }
 },
 "nbformat": 4,
 "nbformat_minor": 5
}
