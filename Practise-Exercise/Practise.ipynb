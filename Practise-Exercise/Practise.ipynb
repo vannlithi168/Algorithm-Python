{
 "cells": [
  {
   "cell_type": "code",
   "execution_count": 96,
   "id": "0b79ce7e",
   "metadata": {},
   "outputs": [
    {
     "name": "stdout",
     "output_type": "stream",
     "text": [
      "1 100\n",
      "5050\n"
     ]
    }
   ],
   "source": [
    "#1\n",
    "N, M = map(int,input().split())\n",
    "result = 0\n",
    "for i in range(N , M + 1):\n",
    "    result += i\n",
    "print(result)"
   ]
  },
  {
   "cell_type": "code",
   "execution_count": 54,
   "id": "ed0b0899",
   "metadata": {},
   "outputs": [
    {
     "name": "stdout",
     "output_type": "stream",
     "text": [
      "141 16\n"
     ]
    }
   ],
   "source": [
    "#2\n",
    "import random\n",
    "SEED, MIN, MAX, N=1987,123,4567,89\n",
    "random.seed(SEED)\n",
    "S=random.sample(range(MIN, MAX), N)\n",
    "\n",
    "for i in S:\n",
    "    m = min(S)\n",
    "    n = S.index(min(S))\n",
    "print(m,n)"
   ]
  },
  {
   "cell_type": "code",
   "execution_count": 95,
   "id": "4a57419c",
   "metadata": {},
   "outputs": [
    {
     "name": "stdout",
     "output_type": "stream",
     "text": [
      "1234567890\n",
      "Sum of all divisors of N: 3211610688\n"
     ]
    }
   ],
   "source": [
    "#3import math\n",
    "\n",
    "def sum_of_divisors(n):\n",
    "    sqrtn = math.isqrt(n)\n",
    "    divisors = []\n",
    "    \n",
    "    for i in range(1, sqrtn + 1):\n",
    "        if n % i == 0:\n",
    "            divisors.append(i)\n",
    "            if i != sqrtn:  \n",
    "                divisors.append(n // i)\n",
    "\n",
    "    return sum(divisors)\n",
    "\n",
    "N = int(input())\n",
    "result = sum_of_divisors(N)\n",
    "\n",
    "print(\"Sum of all divisors of N:\", result)\n"
   ]
  },
  {
   "cell_type": "code",
   "execution_count": 117,
   "id": "05d39fde",
   "metadata": {},
   "outputs": [
    {
     "name": "stdout",
     "output_type": "stream",
     "text": [
      "1 10\n",
      "2\n",
      "3\n",
      "5\n",
      "7\n"
     ]
    }
   ],
   "source": [
    "#4\n",
    "\n",
    "def is_prime(n):\n",
    "    if n <= 1:\n",
    "        return False\n",
    "    for i in range(2, int(n**0.5) + 1):\n",
    "        if n % i == 0:\n",
    "            return False\n",
    "    return True\n",
    "\n",
    "N, M = map(int, input().split())\n",
    "\n",
    "for num in range(N, M + 1):\n",
    "    if is_prime(num):\n",
    "        print(num)\n",
    "\n"
   ]
  },
  {
   "cell_type": "code",
   "execution_count": 121,
   "id": "2af34441",
   "metadata": {},
   "outputs": [
    {
     "name": "stdout",
     "output_type": "stream",
     "text": [
      "1 10\n",
      "Maximum prime number: 7\n"
     ]
    }
   ],
   "source": [
    "def is_prime(n):\n",
    "    if n <= 1:\n",
    "        return False\n",
    "    for i in range(2, int(n**0.5) + 1):\n",
    "        if n % i == 0:\n",
    "            return False\n",
    "    return True\n",
    "\n",
    "N, M = map(int, input().split())\n",
    "max_prime = None\n",
    "\n",
    "for num in range(N, M + 1):\n",
    "    if is_prime(num):\n",
    "        if max_prime is None or num > max_prime:\n",
    "            max_prime = num\n",
    "\n",
    "\n",
    "print(\"Maximum prime number:\", max_prime)\n",
    "\n"
   ]
  }
 ],
 "metadata": {
  "kernelspec": {
   "display_name": "Python 3 (ipykernel)",
   "language": "python",
   "name": "python3"
  },
  "language_info": {
   "codemirror_mode": {
    "name": "ipython",
    "version": 3
   },
   "file_extension": ".py",
   "mimetype": "text/x-python",
   "name": "python",
   "nbconvert_exporter": "python",
   "pygments_lexer": "ipython3",
   "version": "3.10.9"
  }
 },
 "nbformat": 4,
 "nbformat_minor": 5
}
