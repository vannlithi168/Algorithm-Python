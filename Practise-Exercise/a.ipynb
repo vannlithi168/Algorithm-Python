{
 "cells": [
  {
   "cell_type": "code",
   "execution_count": 3,
   "metadata": {},
   "outputs": [
    {
     "name": "stdout",
     "output_type": "stream",
     "text": [
      "Generated list: [3995, 1336, 2224, 3765, 497, 709, 3880, 2702, 2347, 2343, 4051, 973, 2917, 669, 2526, 1331, 141, 1856, 2711, 3633, 4434, 2490, 3167, 3977, 3691, 809, 4203, 3524, 3265, 1748, 2674, 2249, 1390, 2238, 3236, 2920, 2757, 2769, 4199, 1234, 4166, 2221, 1622, 1058, 4458, 1978, 1004, 2473, 3386, 3317, 3000, 3351, 1545, 3556, 3635, 1617, 425, 4537, 362, 1483, 1155, 3325, 586, 2540, 4264, 1896, 2494, 204, 2663, 1213, 1507, 725, 1869, 1154, 1174, 1725, 4011, 2355, 1800, 4566, 540, 1307, 1955, 2796, 2105, 2056, 3373, 2200, 3741]\n",
      "Smallest value: 141\n",
      "Index of smallest value: 16\n"
     ]
    }
   ],
   "source": [
    "import random\n",
    "SEED, MIN, MAX, N = 1987, 123, 4567, 89\n",
    "\n",
    "# Set the seed and generate the random list S\n",
    "random.seed(SEED)\n",
    "S = random.sample(range(MIN, MAX), N)\n",
    "\n",
    "# Find the smallest value and its index\n",
    "min_value = min(S)\n",
    "min_index = S.index(min_value)\n",
    "\n",
    "# Print the results\n",
    "print(\"Generated list:\", S)\n",
    "print(\"Smallest value:\", min_value)\n",
    "print(\"Index of smallest value:\", min_index)\n"
   ]
  },
  {
   "cell_type": "code",
   "execution_count": 5,
   "metadata": {},
   "outputs": [
    {
     "name": "stdout",
     "output_type": "stream",
     "text": [
      "The five largest prime numbers between 2147483647 and 4294967295 are:\n",
      "4294967291\n",
      "4294967279\n",
      "4294967231\n",
      "4294967197\n",
      "4294967189\n"
     ]
    }
   ],
   "source": [
    "#4\n",
    "def is_prime(num):\n",
    "    if num < 2:\n",
    "        return False\n",
    "    for i in range(2, int(num**0.5) + 1):\n",
    "        if num % i == 0:\n",
    "            return False\n",
    "    return True\n",
    "\n",
    "def print_largest_primes(N, M):\n",
    "    count_primes = 0\n",
    "    for num in range(M, N - 1, -1):\n",
    "        if is_prime(num):\n",
    "            if count_primes < 5:\n",
    "                print(num)\n",
    "                count_primes += 1\n",
    "            else:\n",
    "                break\n",
    "\n",
    "\n",
    "N = int(input(\"Enter N: \"))\n",
    "M = int(input(\"Enter M: \"))\n",
    "\n",
    "print(\"The five largest prime numbers between\", N, \"and\", M, \"are:\")\n",
    "print_largest_primes(N, M)\n"
   ]
  },
  {
   "cell_type": "code",
   "execution_count": 11,
   "metadata": {},
   "outputs": [
    {
     "name": "stdout",
     "output_type": "stream",
     "text": [
      "Sum of all odd numbers in the pyramid of height 1234567 is: 580763573142020329536784\n"
     ]
    }
   ],
   "source": [
    "#5\n",
    "def sum_of_odd_pyramid(N):\n",
    "    total_sum = 0\n",
    "    current_odd = 1\n",
    "\n",
    "    for row in range(1, N + 1):\n",
    "        row_sum = row * ((current_odd + current_odd + 2 * (row - 1)) // 2)\n",
    "        total_sum += row_sum\n",
    "        current_odd += 2 * row\n",
    "\n",
    "    return total_sum\n",
    "\n",
    "\n",
    "N = int(input(\"Enter the height of the odd pyramid (N): \"))\n",
    "result = sum_of_odd_pyramid(N)\n",
    "print(\"Sum of all odd numbers in the pyramid of height\", N, \"is:\", result)\n"
   ]
  },
  {
   "cell_type": "code",
   "execution_count": 8,
   "metadata": {},
   "outputs": [
    {
     "name": "stdout",
     "output_type": "stream",
     "text": [
      "Sum of divisors of 20 is: 42\n"
     ]
    }
   ],
   "source": [
    "#6\n",
    "def sum_of_divisors(num):\n",
    "    divisor_sum = 0\n",
    "    for i in range(1, num + 1):\n",
    "        if num % i == 0:\n",
    "            divisor_sum += i\n",
    "    return divisor_sum\n",
    "\n",
    "\n",
    "num = int(input(\"Enter a natural number between 2 and 20: \"))\n",
    "\n",
    "if 2 <= num <= 20:\n",
    "    result = sum_of_divisors(num)\n",
    "    print(\"Sum of divisors of\", num, \"is:\", result)\n",
    "else:\n",
    "    print(\"Please enter a natural number between 2 and 20.\")\n"
   ]
  },
  {
   "cell_type": "code",
   "execution_count": 14,
   "metadata": {},
   "outputs": [
    {
     "name": "stdout",
     "output_type": "stream",
     "text": [
      "Sum of all prime numbers between 1 and 10 is: 17\n",
      "Kth smallest prime number is: 5\n"
     ]
    }
   ],
   "source": [
    "#7\n",
    "def is_prime(num):\n",
    "    if num < 2:\n",
    "        return False\n",
    "    for i in range(2, int(num**0.5) + 1):\n",
    "        if num % i == 0:\n",
    "            return False\n",
    "    return True\n",
    "\n",
    "def kth_smallest_prime_sum(A, B, K):\n",
    "    prime_sum = 0\n",
    "    kth_prime = None\n",
    "    count_primes = 0\n",
    "\n",
    "    for num in range(A, B + 1):\n",
    "        if is_prime(num):\n",
    "            prime_sum += num\n",
    "            count_primes += 1\n",
    "\n",
    "            if count_primes == K:\n",
    "                kth_prime = num\n",
    "\n",
    "    return prime_sum, kth_prime\n",
    "\n",
    "# Example usage\n",
    "A, B, K = map(int, input(\"Enter A, B, and K separated by space: \").split())\n",
    "prime_sum, kth_prime = kth_smallest_prime_sum(A, B, K)\n",
    "\n",
    "print(\"Sum of all prime numbers between\", A, \"and\", B, \"is:\", prime_sum)\n",
    "print(\"Kth smallest prime number is:\", kth_prime if kth_prime is not None else -1)\n",
    "\n",
    "\n",
    " "
   ]
  },
  {
   "cell_type": "code",
   "execution_count": 15,
   "metadata": {},
   "outputs": [
    {
     "name": "stdout",
     "output_type": "stream",
     "text": [
      "3 5\n",
      "5 7\n",
      "Total number of pairs of twin primes: 2\n"
     ]
    }
   ],
   "source": [
    "#8\n",
    "def is_prime(num):\n",
    "    if num < 2:\n",
    "        return False\n",
    "    for i in range(2, int(num**0.5) + 1):\n",
    "        if num % i == 0:\n",
    "            return False\n",
    "    return True\n",
    "\n",
    "def find_twin_primes(N):\n",
    "    twin_prime_pairs = []\n",
    "    count_twin_primes = 0\n",
    "\n",
    "    for num in range(5, N + 1):\n",
    "        if is_prime(num) and (is_prime(num - 2) or is_prime(num + 2)):\n",
    "            twin_prime_pairs.append((num - 2, num))\n",
    "\n",
    "    count_twin_primes = len(twin_prime_pairs)\n",
    "\n",
    "    return twin_prime_pairs, count_twin_primes\n",
    "\n",
    "# Example usage\n",
    "N = int(input(\"Enter a positive integer N: \"))\n",
    "twin_prime_pairs, count_twin_primes = find_twin_primes(N)\n",
    "\n",
    "# Print twin prime pairs\n",
    "for pair in twin_prime_pairs:\n",
    "    print(pair[0], pair[1])\n",
    "\n",
    "# Print total number of pairs\n",
    "print(\"Total number of pairs of twin primes:\", count_twin_primes)\n"
   ]
  },
  {
   "cell_type": "code",
   "execution_count": 18,
   "metadata": {},
   "outputs": [
    {
     "name": "stdout",
     "output_type": "stream",
     "text": [
      "Mersenne prime numbers less than or equal to 10 are:\n",
      "7\n"
     ]
    }
   ],
   "source": [
    "#9\n",
    "def is_prime(num):\n",
    "    if num < 2:\n",
    "        return False\n",
    "    for i in range(2, int(num**0.5) + 1):\n",
    "        if num % i == 0:\n",
    "            return False\n",
    "    return True\n",
    "\n",
    "def generate_mersenne_number(exponent):\n",
    "    return 2**exponent - 1\n",
    "\n",
    "def find_mersenne_primes(N):\n",
    "    mersenne_primes = []\n",
    "\n",
    "    for exponent in range(3, N.bit_length() + 1):\n",
    "        if is_prime(exponent):\n",
    "            mersenne_number = generate_mersenne_number(exponent)\n",
    "            if mersenne_number <= N and is_prime(mersenne_number):\n",
    "                mersenne_primes.append(mersenne_number)\n",
    "\n",
    "    return mersenne_primes\n",
    "\n",
    "# Example usage\n",
    "N = int(input(\"Enter a positive integer N: \"))\n",
    "mersenne_primes = find_mersenne_primes(N)\n",
    "\n",
    "# Print Mersenne prime numbers\n",
    "print(\"Mersenne prime numbers less than or equal to\", N, \"are:\")\n",
    "for mersenne_prime in mersenne_primes:\n",
    "    print(mersenne_prime)\n",
    "\n",
    "#wrong\n",
    "\n"
   ]
  },
  {
   "cell_type": "code",
   "execution_count": 22,
   "metadata": {},
   "outputs": [
    {
     "name": "stdout",
     "output_type": "stream",
     "text": [
      "12 is not a prime number.\n",
      "710 is not a prime number.\n",
      "7 is a prime number.\n",
      "257 is a prime number.\n",
      "319 is not a prime number.\n"
     ]
    }
   ],
   "source": [
    "#10\n",
    "def is_prime(n):\n",
    "    if n <= 1:\n",
    "        return False\n",
    "    for i in range(2, int(n**0.5) + 1):\n",
    "        if n % i == 0:\n",
    "            return False\n",
    "    return True\n",
    "\n",
    "input_numbers_str = input(\"Enter numbers separated by space: \")\n",
    "input_numbers = [int(num) for num in input_numbers_str.split()]\n",
    "\n",
    "for number_to_check in input_numbers:\n",
    "    if is_prime(number_to_check):\n",
    "        print(f\"{number_to_check} is a prime number.\")\n",
    "    else:\n",
    "        print(f\"{number_to_check} is not a prime number.\")\n",
    "\n"
   ]
  },
  {
   "cell_type": "code",
   "execution_count": 24,
   "metadata": {},
   "outputs": [
    {
     "name": "stdout",
     "output_type": "stream",
     "text": [
      "211224 is not a prime number.\n",
      "The divisors of 211224 are: [1, 2, 3, 4, 6, 8, 12, 13, 24, 26, 39, 52, 78, 104, 156, 312, 677, 1354, 2031, 2708, 4062, 5416, 8124, 8801, 16248, 17602, 26403, 35204, 52806, 70408, 105612, 211224]\n"
     ]
    }
   ],
   "source": [
    "#11\n",
    "def find_divisors(n):\n",
    "    divisors = []\n",
    "    for i in range(1, n + 1):\n",
    "        if n % i == 0:\n",
    "            divisors.append(i)\n",
    "    return divisors\n",
    "\n",
    "def is_prime(n):\n",
    "    if n <= 1:\n",
    "        return False\n",
    "    for i in range(2, int(n**0.5) + 1):\n",
    "        if n % i == 0:\n",
    "            return False\n",
    "    return True\n",
    "\n",
    "# Example usage with user input\n",
    "user_input = int(input(\"Enter a number: \"))\n",
    "\n",
    "if is_prime(user_input):\n",
    "    print(f\"{user_input} is a prime number.\")\n",
    "else:\n",
    "    print(f\"{user_input} is not a prime number.\")\n",
    "    print(f\"The divisors of {user_input} are: {find_divisors(user_input)}\")\n"
   ]
  },
  {
   "cell_type": "code",
   "execution_count": 26,
   "metadata": {},
   "outputs": [
    {
     "name": "stdout",
     "output_type": "stream",
     "text": [
      "Number of operations 1\n",
      "Number of operations 2\n",
      "Number of operations 3\n",
      "Number of operations 4\n",
      "Number of operations 5\n",
      "Number of operations 6\n",
      "Number of operations 7\n",
      "Number of operations 8\n",
      "Number of operations 9\n",
      "Number of operations 10\n"
     ]
    }
   ],
   "source": [
    "#12\n",
    "# Input\n",
    "# Input\n",
    "N = int(input(\"Enter the number: \"))\n",
    "\n",
    "# Output\n",
    "for i in range(1, N + 1):\n",
    "    print(f\"Number of operations {i}\")\n",
    "\n"
   ]
  },
  {
   "cell_type": "code",
   "execution_count": 27,
   "metadata": {},
   "outputs": [
    {
     "name": "stdout",
     "output_type": "stream",
     "text": [
      "Prime numbers between 12 and 24:\n",
      "13\n",
      "17\n",
      "19\n",
      "23\n"
     ]
    }
   ],
   "source": [
    "#13\n",
    "def is_prime(num):\n",
    "    if num < 2:\n",
    "        return False\n",
    "    for i in range(2, int(num**0.5) + 1):\n",
    "        if num % i == 0:\n",
    "            return False\n",
    "    return True\n",
    "\n",
    "# Input\n",
    "M, N = map(int, input(\"Enter two numbers M and N separated by space: \").split())\n",
    "\n",
    "# Output\n",
    "print(f\"Prime numbers between {M} and {N}:\")\n",
    "for num in range(M, N + 1):\n",
    "    if is_prime(num):\n",
    "        print(num)\n"
   ]
  },
  {
   "cell_type": "code",
   "execution_count": 35,
   "metadata": {},
   "outputs": [
    {
     "name": "stdout",
     "output_type": "stream",
     "text": [
      "Number of almost prime numbers between 1 and 1000 (with 2 distinct prime factors) is: 299\n"
     ]
    }
   ],
   "source": [
    "#14\n",
    "def count_almost_prime(A, B, N=2):\n",
    "    def count_prime_factors(num):\n",
    "        count = 0\n",
    "        for i in range(2, num + 1):\n",
    "            while num % i == 0:\n",
    "                count += 1\n",
    "                num //= i\n",
    "        return count\n",
    "\n",
    "    count = 0\n",
    "    for num in range(A, B + 1):\n",
    "        if count_prime_factors(num) == N:\n",
    "            count += 1\n",
    "\n",
    "    return count\n",
    "\n",
    "# Example usage\n",
    "input_values = input(\"Enter A, B, and N separated by space: \").split()\n",
    "A, B = map(int, input_values[:2])\n",
    "N = int(input_values[2]) if len(input_values) > 2 else 2\n",
    "\n",
    "result = count_almost_prime(A, B, N)\n",
    "print(f\"Number of almost prime numbers between {A} and {B} (with {N} distinct prime factors) is: {result}\")\n",
    "\n",
    "#wrong\n",
    "\n"
   ]
  },
  {
   "cell_type": "code",
   "execution_count": 37,
   "metadata": {},
   "outputs": [
    {
     "name": "stdout",
     "output_type": "stream",
     "text": [
      "perm(77, 11) = 266711567621704128000\n"
     ]
    }
   ],
   "source": [
    "#2-1\n",
    "def perm(n, r):\n",
    "    result = 1\n",
    "    for i in range(r):\n",
    "        result *= n - i\n",
    "    return result\n",
    "\n",
    "# Input\n",
    "n, r = map(int, input(\"Enter n and r separated by space: \").split())\n",
    "\n",
    "# Output\n",
    "result = perm(n, r)\n",
    "print(f\"perm({n}, {r}) = {result}\")\n"
   ]
  },
  {
   "cell_type": "code",
   "execution_count": 39,
   "metadata": {},
   "outputs": [
    {
     "name": "stdout",
     "output_type": "stream",
     "text": [
      "LCM of [1, 3, 5, 7, 9, 11, 13, 15, 17, 19] is: 14549535\n"
     ]
    }
   ],
   "source": [
    "#2-2\n",
    "def gcd(a, b):\n",
    "    while b:\n",
    "        a, b = b, a % b\n",
    "    return a\n",
    "\n",
    "def lcm(a, b):\n",
    "    return a * b // gcd(a, b)\n",
    "\n",
    "def calculate_lcm(numbers):\n",
    "    result = numbers[0]\n",
    "    for num in numbers[1:]:\n",
    "        result = lcm(result, num)\n",
    "    return result\n",
    "\n",
    "# Input\n",
    "numbers = list(map(int, input(\"Enter positive integers separated by space: \").split()))\n",
    "\n",
    "# Output\n",
    "result = calculate_lcm(numbers)\n",
    "print(f\"LCM of {numbers} is: {result}\")\n"
   ]
  },
  {
   "cell_type": "code",
   "execution_count": 41,
   "metadata": {},
   "outputs": [
    {
     "name": "stdout",
     "output_type": "stream",
     "text": [
      "Number with the longest Collatz sequence between 123 and 321 is: 313\n"
     ]
    }
   ],
   "source": [
    "#2-3\n",
    "def collatz_sequence_length(n):\n",
    "    length = 1\n",
    "    while n != 1:\n",
    "        if n % 2 == 0:\n",
    "            n = n // 2\n",
    "        else:\n",
    "            n = 3 * n + 1\n",
    "        length += 1\n",
    "    return length\n",
    "\n",
    "def find_longest_collatz_sequence(N, M):\n",
    "    max_length = 0\n",
    "    number_with_max_length = 0\n",
    "\n",
    "    for num in range(M, N - 1, -1):\n",
    "        current_length = collatz_sequence_length(num)\n",
    "        if current_length > max_length:\n",
    "            max_length = current_length\n",
    "            number_with_max_length = num\n",
    "\n",
    "    return number_with_max_length\n",
    "\n",
    "# Input\n",
    "N, M = map(int, input(\"Enter two nonnegative integers N and M separated by space: \").split())\n",
    "\n",
    "# Output\n",
    "result = find_longest_collatz_sequence(N, M)\n",
    "print(f\"Number with the longest Collatz sequence between {N} and {M} is: {result}\")\n",
    "\n",
    "\n",
    "\n"
   ]
  }
 ],
 "metadata": {
  "kernelspec": {
   "display_name": "Python 3 (ipykernel)",
   "language": "python",
   "name": "python3"
  },
  "language_info": {
   "codemirror_mode": {
    "name": "ipython",
    "version": 3
   },
   "file_extension": ".py",
   "mimetype": "text/x-python",
   "name": "python",
   "nbconvert_exporter": "python",
   "pygments_lexer": "ipython3",
   "version": "3.10.9"
  }
 },
 "nbformat": 4,
 "nbformat_minor": 2
}
