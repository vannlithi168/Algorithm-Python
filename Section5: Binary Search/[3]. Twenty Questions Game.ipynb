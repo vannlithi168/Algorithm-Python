{
 "cells": [
  {
   "cell_type": "code",
   "execution_count": 2,
   "id": "a3b3b3cb",
   "metadata": {},
   "outputs": [
    {
     "name": "stdout",
     "output_type": "stream",
     "text": [
      "1 1000000\n",
      "2022\n",
      "Bigger than 500000? Yes.\n",
      "Bigger than 750000? No.\n",
      "Bigger than 625000? No.\n",
      "Bigger than 562500? No.\n",
      "Bigger than 531250? Yes.\n",
      "Bigger than 546875? Yes.\n",
      "Bigger than 554688? Yes.\n",
      "Bigger than 558594? No.\n",
      "Bigger than 556641? Yes.\n",
      "Bigger than 557618? No.\n",
      "Bigger than 557130? Yes.\n",
      "Bigger than 557374? Yes.\n",
      "Bigger than 557496? No.\n",
      "Bigger than 557435? Yes.\n",
      "Bigger than 557466? No.\n",
      "Bigger than 557451? No.\n",
      "Bigger than 557443? Yes.\n",
      "Bigger than 557447? Yes.\n",
      "Bigger than 557449? Yes.\n",
      "Bigger than 557450? Yes.\n",
      "Your X is 557451.\n"
     ]
    },
    {
     "data": {
      "text/plain": [
       "557451"
      ]
     },
     "execution_count": 2,
     "metadata": {},
     "output_type": "execute_result"
    }
   ],
   "source": [
    "def solve(x, s, t):\n",
    "    low, high = s, t\n",
    "    while low < high:\n",
    "        mid = (low + high) // 2\n",
    "        print(f\"Bigger than {mid}?\", end = \" \")\n",
    "        if x > mid:\n",
    "            print(\"Yes.\")\n",
    "            low = mid + 1\n",
    "        else:\n",
    "            print(\"No.\")\n",
    "            high = mid\n",
    "    print(f\"Your X is {low}.\")\n",
    "    return low\n",
    "\n",
    "import random \n",
    "S, T = map(int, input().split())\n",
    "SEED = int(input())\n",
    "random.seed(SEED)\n",
    "X = random.randint(S, T)\n",
    "solve(X, S, T)"
   ]
  },
  {
   "cell_type": "code",
   "execution_count": 4,
   "id": "7f066329",
   "metadata": {},
   "outputs": [
    {
     "name": "stdout",
     "output_type": "stream",
     "text": [
      "1 1000000\n",
      "2022\n",
      "Bigger than 500000? Yes.\n",
      "Bigger than 750000? NO.\n",
      "Bigger than 625000? NO.\n",
      "Bigger than 562500? NO.\n",
      "Bigger than 531250? Yes.\n",
      "Bigger than 546875? Yes.\n",
      "Bigger than 554688? Yes.\n",
      "Bigger than 558594? NO.\n",
      "Bigger than 556641? Yes.\n",
      "Bigger than 557618? NO.\n",
      "Bigger than 557130? Yes.\n",
      "Bigger than 557374? Yes.\n",
      "Bigger than 557496? NO.\n",
      "Bigger than 557435? Yes.\n",
      "Bigger than 557466? NO.\n",
      "Bigger than 557451? NO.\n",
      "Bigger than 557443? Yes.\n",
      "Bigger than 557447? Yes.\n",
      "Bigger than 557449? Yes.\n",
      "Bigger than 557450? Yes.\n",
      "Your X is 557451.\n"
     ]
    },
    {
     "data": {
      "text/plain": [
       "557451"
      ]
     },
     "execution_count": 4,
     "metadata": {},
     "output_type": "execute_result"
    }
   ],
   "source": [
    "#solution2 using recursive\n",
    "\n",
    "def solve(x, low, high):\n",
    "    if low >= high:\n",
    "        print(f\"Your X is {low}.\")\n",
    "        return low\n",
    "    else: \n",
    "        mid = (low + high) // 2\n",
    "        print(f\"Bigger than {mid}?\", end = \" \")\n",
    "        if x > mid:\n",
    "            print(\"Yes.\")\n",
    "            return solve(x, mid + 1, high)\n",
    "        else:\n",
    "            print(\"NO.\")\n",
    "            return solve(x, low, mid)\n",
    "        \n",
    "import random\n",
    "S, T = map(int, input().split())\n",
    "SEED = int(input())\n",
    "random.seed(SEED)\n",
    "X = random.randint(S, T)\n",
    "solve(X, S, T)"
   ]
  },
  {
   "cell_type": "code",
   "execution_count": null,
   "id": "6ddd98e7",
   "metadata": {},
   "outputs": [],
   "source": []
  }
 ],
 "metadata": {
  "kernelspec": {
   "display_name": "Python 3 (ipykernel)",
   "language": "python",
   "name": "python3"
  },
  "language_info": {
   "codemirror_mode": {
    "name": "ipython",
    "version": 3
   },
   "file_extension": ".py",
   "mimetype": "text/x-python",
   "name": "python",
   "nbconvert_exporter": "python",
   "pygments_lexer": "ipython3",
   "version": "3.10.9"
  }
 },
 "nbformat": 4,
 "nbformat_minor": 5
}
