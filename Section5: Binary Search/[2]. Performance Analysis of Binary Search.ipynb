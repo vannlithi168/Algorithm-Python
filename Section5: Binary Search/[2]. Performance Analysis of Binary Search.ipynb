{
 "cells": [
  {
   "cell_type": "code",
   "execution_count": 2,
   "id": "2d61fc9f",
   "metadata": {},
   "outputs": [
    {
     "name": "stdout",
     "output_type": "stream",
     "text": [
      "8 7\n",
      "11 17 26 28 37 45 53 59\n",
      "33 28 64 53 81 26 11\n",
      "21\n"
     ]
    }
   ],
   "source": [
    "def binsearch(x, n, S):\n",
    "    low, high = 0, n-1\n",
    "    cnt = 0\n",
    "    while low <= high:\n",
    "        mid = (low + high) // 2\n",
    "        cnt += 1\n",
    "        if x == S[mid]:\n",
    "            return cnt\n",
    "        elif x < S[mid]:\n",
    "            high = mid - 1\n",
    "        else: # c > S[mid]\n",
    "            low = mid + 1\n",
    "    return cnt\n",
    "\n",
    "def solve(n, m , S, X):\n",
    "    total = 0\n",
    "    for i in range(m):\n",
    "        total += binsearch(X[i], n, S)\n",
    "    print(total)\n",
    "    \n",
    "N,M = map(int, input().split())\n",
    "S = list(map(int, input().split()))\n",
    "X = list(map(int, input().split()))\n",
    "solve(N, M, S, X)"
   ]
  },
  {
   "cell_type": "code",
   "execution_count": 8,
   "id": "8fc48889",
   "metadata": {},
   "outputs": [
    {
     "name": "stdout",
     "output_type": "stream",
     "text": [
      "10 10\n",
      "17 46 49 62 66 76 78 79 84 98\n",
      "78 46 66 79 49 84 17 76 98 62\n",
      "29\n"
     ]
    }
   ],
   "source": [
    "#solution2 using recursive\n",
    "\n",
    "def binsearch(low, high, x, S):\n",
    "    if low > high:\n",
    "        return 0\n",
    "    else:\n",
    "        mid = (low + high) // 2\n",
    "        if x == S[mid]:\n",
    "            return 1\n",
    "        elif x < S[mid]:\n",
    "            return 1 + binsearch(low, mid -1, x, S)\n",
    "        else: # x > S[mid]\n",
    "            return 1 + binsearch(mid + 1, high, x, S)\n",
    "        \n",
    "def solve(n, m, S, X):\n",
    "    total = 0\n",
    "    for i in range(m):\n",
    "        total += binsearch(0, n-1, X[i], S)\n",
    "    print(total)\n",
    "\n",
    "N, M = map(int, input().split())\n",
    "S = list(map(int, input().split()))\n",
    "X = list(map(int, input().split()))\n",
    "solve(N, M, S, X)"
   ]
  },
  {
   "cell_type": "code",
   "execution_count": null,
   "id": "6956fcc5",
   "metadata": {},
   "outputs": [],
   "source": []
  }
 ],
 "metadata": {
  "kernelspec": {
   "display_name": "Python 3 (ipykernel)",
   "language": "python",
   "name": "python3"
  },
  "language_info": {
   "codemirror_mode": {
    "name": "ipython",
    "version": 3
   },
   "file_extension": ".py",
   "mimetype": "text/x-python",
   "name": "python",
   "nbconvert_exporter": "python",
   "pygments_lexer": "ipython3",
   "version": "3.10.9"
  }
 },
 "nbformat": 4,
 "nbformat_minor": 5
}
