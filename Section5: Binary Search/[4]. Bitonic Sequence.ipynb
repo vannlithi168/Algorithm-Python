{
 "cells": [
  {
   "cell_type": "code",
   "execution_count": 2,
   "id": "638bc298",
   "metadata": {},
   "outputs": [
    {
     "name": "stdout",
     "output_type": "stream",
     "text": [
      "7\n",
      "18 27 42 82 73 67 25\n",
      "3 82\n"
     ]
    }
   ],
   "source": [
    "def binsearch(low, high, n, s):\n",
    "    mid = (low + high) // 2\n",
    "    if mid == 0 or mid > (n - 1):\n",
    "        return -1\n",
    "    else:\n",
    "        if s[mid-1] < s[mid] > s[mid+1]:\n",
    "            return mid\n",
    "        elif s[mid-1] < s[mid] < s[mid+1]:\n",
    "            return binsearch(mid +1, high, n, s)\n",
    "        else: # s[mid-1] > s[mid] > s[mid+1]:\n",
    "            return binsearch(low, mid - 1, n, s)\n",
    "        \n",
    "def solve(n, s):\n",
    "    j = binsearch(0, n - 1, n, s)\n",
    "    print(j, s[j])\n",
    "    \n",
    "N = int(input())\n",
    "S = list(map(int, input().split()))\n",
    "solve(N, S)"
   ]
  },
  {
   "cell_type": "code",
   "execution_count": 3,
   "id": "21addde3",
   "metadata": {},
   "outputs": [
    {
     "name": "stdout",
     "output_type": "stream",
     "text": [
      "7\n",
      "18 27 42 82 73 67 25\n",
      "3 82\n"
     ]
    }
   ],
   "source": [
    "#solution2 using recursive\n",
    "\n",
    "def binsearch(n, s):\n",
    "    low, high = 0, n-1\n",
    "    mid = (low + high) // 2\n",
    "    while mid != 0 and mid != n - 1:\n",
    "        mid = (low + high) // 2\n",
    "        if s[mid - 1] < s[mid] > s[mid + 1]:\n",
    "            return mid\n",
    "        elif s[mid-1] < s[mid] < s[mid+1]:\n",
    "            low = mid + 1\n",
    "        else: # s[mid-1] > s[mid] > s[mid+1]:\n",
    "            high = mid - 1\n",
    "    return -1\n",
    "\n",
    "def solve(n, s):\n",
    "    j = binsearch(n, s)\n",
    "    print(j, s[j])\n",
    "    \n",
    "N = int(input())\n",
    "S = list(map(int, input().split()))\n",
    "solve(N, S)"
   ]
  }
 ],
 "metadata": {
  "kernelspec": {
   "display_name": "Python 3 (ipykernel)",
   "language": "python",
   "name": "python3"
  },
  "language_info": {
   "codemirror_mode": {
    "name": "ipython",
    "version": 3
   },
   "file_extension": ".py",
   "mimetype": "text/x-python",
   "name": "python",
   "nbconvert_exporter": "python",
   "pygments_lexer": "ipython3",
   "version": "3.10.9"
  }
 },
 "nbformat": 4,
 "nbformat_minor": 5
}
