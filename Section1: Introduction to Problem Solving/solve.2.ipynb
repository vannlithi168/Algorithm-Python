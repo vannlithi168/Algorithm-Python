{
 "cells": [
  {
   "cell_type": "code",
   "execution_count": 2,
   "metadata": {},
   "outputs": [
    {
     "name": "stdout",
     "output_type": "stream",
     "text": [
      "3\n"
     ]
    }
   ],
   "source": [
    "def solve(n):\n",
    "    return n * (n + 1) // 2\n",
    "\n",
    "N = int(input())\n",
    "print(solve(N))"
   ]
  },
  {
   "cell_type": "code",
   "execution_count": 2,
   "metadata": {},
   "outputs": [
    {
     "name": "stdout",
     "output_type": "stream",
     "text": [
      "50 4\n"
     ]
    }
   ],
   "source": [
    "def solve(N, S):\n",
    "    maxn, maxi = S[0], 0\n",
    "    for i in range(1, N):\n",
    "        if maxn < S[i]:\n",
    "            maxn, maxi = S[i], i\n",
    "    return maxn, maxi\n",
    "\n",
    "N = int(input())\n",
    "S = list(map(int, input().split()))\n",
    "maxn, maxi = solve(N, S)\n",
    "print(maxn, maxi)"
   ]
  }
 ],
 "metadata": {
  "kernelspec": {
   "display_name": "Python 3",
   "language": "python",
   "name": "python3"
  },
  "language_info": {
   "codemirror_mode": {
    "name": "ipython",
    "version": 3
   },
   "file_extension": ".py",
   "mimetype": "text/x-python",
   "name": "python",
   "nbconvert_exporter": "python",
   "pygments_lexer": "ipython3",
   "version": "3.11.4"
  },
  "orig_nbformat": 4
 },
 "nbformat": 4,
 "nbformat_minor": 2
}
