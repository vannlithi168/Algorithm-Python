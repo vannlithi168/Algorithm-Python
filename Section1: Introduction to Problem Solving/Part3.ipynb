{
 "cells": [
  {
   "cell_type": "code",
   "execution_count": 2,
   "id": "f95d8064",
   "metadata": {},
   "outputs": [
    {
     "name": "stdout",
     "output_type": "stream",
     "text": [
      "10\n",
      "5 2 3 4 9 7 8 6 0 1\n",
      "9 4\n"
     ]
    }
   ],
   "source": [
    "def solve(N, S):\n",
    "    maxn, maxi = S[0], 0\n",
    "    for i in range(1, N):\n",
    "        if maxn < S[i]:\n",
    "            maxn, maxi = S[i], i\n",
    "    return maxn, maxi\n",
    "\n",
    "N = int(input())\n",
    "S = list(map(int, input().split()))\n",
    "maxn, maxi = solve(N, S)\n",
    "print(maxn, maxi)"
   ]
  },
  {
   "cell_type": "code",
   "execution_count": 4,
   "id": "01fef0c2",
   "metadata": {},
   "outputs": [
    {
     "name": "stdout",
     "output_type": "stream",
     "text": [
      "3\n"
     ]
    }
   ],
   "source": [
    "#find a number of divisors of a positive integer N involves counting \n",
    "#the numbers for which the remainder is 0 when dividing N by all integers\n",
    "#from 1 to N sequentially\n",
    "\n",
    "N = input()"
   ]
  },
  {
   "cell_type": "code",
   "execution_count": null,
   "id": "7e2e720b",
   "metadata": {},
   "outputs": [],
   "source": []
  },
  {
   "cell_type": "code",
   "execution_count": null,
   "id": "5a3feed4",
   "metadata": {},
   "outputs": [],
   "source": []
  },
  {
   "cell_type": "code",
   "execution_count": null,
   "id": "30aae294",
   "metadata": {},
   "outputs": [],
   "source": []
  }
 ],
 "metadata": {
  "kernelspec": {
   "display_name": "Python 3 (ipykernel)",
   "language": "python",
   "name": "python3"
  },
  "language_info": {
   "codemirror_mode": {
    "name": "ipython",
    "version": 3
   },
   "file_extension": ".py",
   "mimetype": "text/x-python",
   "name": "python",
   "nbconvert_exporter": "python",
   "pygments_lexer": "ipython3",
   "version": "3.10.9"
  }
 },
 "nbformat": 4,
 "nbformat_minor": 5
}
