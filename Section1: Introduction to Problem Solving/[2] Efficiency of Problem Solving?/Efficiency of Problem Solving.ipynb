{
 "cells": [
  {
   "cell_type": "code",
   "execution_count": null,
   "id": "f5447464",
   "metadata": {},
   "outputs": [],
   "source": [
    "def solve(n):\n",
    "    return n * (n + 1) // 2\n",
    "\n",
    "N = int(input())\n",
    "print(solve(N)"
   ]
  },
  {
   "cell_type": "code",
   "execution_count": 1,
   "id": "ca80005e",
   "metadata": {},
   "outputs": [
    {
     "name": "stdout",
     "output_type": "stream",
     "text": [
      "50 4\n"
     ]
    },
    {
     "ename": "ValueError",
     "evalue": "invalid literal for int() with base 10: '50 4'",
     "output_type": "error",
     "traceback": [
      "\u001b[0;31m---------------------------------------------------------------------------\u001b[0m",
      "\u001b[0;31mValueError\u001b[0m                                Traceback (most recent call last)",
      "Cell \u001b[0;32mIn[1], line 8\u001b[0m\n\u001b[1;32m      5\u001b[0m             maxn, maxi \u001b[38;5;241m=\u001b[39m S[i], i\n\u001b[1;32m      6\u001b[0m     \u001b[38;5;28;01mreturn\u001b[39;00m maxn, maxi\n\u001b[0;32m----> 8\u001b[0m N \u001b[38;5;241m=\u001b[39m \u001b[38;5;28;43mint\u001b[39;49m\u001b[43m(\u001b[49m\u001b[38;5;28;43minput\u001b[39;49m\u001b[43m(\u001b[49m\u001b[43m)\u001b[49m\u001b[43m)\u001b[49m\n\u001b[1;32m      9\u001b[0m S \u001b[38;5;241m=\u001b[39m \u001b[38;5;28mlist\u001b[39m(\u001b[38;5;28mmap\u001b[39m(\u001b[38;5;28mint\u001b[39m, \u001b[38;5;28minput\u001b[39m()\u001b[38;5;241m.\u001b[39msplit()))\n\u001b[1;32m     10\u001b[0m maxn, maxi \u001b[38;5;241m=\u001b[39m solve(N, S)\n",
      "\u001b[0;31mValueError\u001b[0m: invalid literal for int() with base 10: '50 4'"
     ]
    }
   ],
   "source": [
    "def solve(N, S):\n",
    "    maxn, maxi = S[0], 0\n",
    "    for i in range(1, N):\n",
    "        if maxn < S[i]:\n",
    "            maxn, maxi = S[i], i\n",
    "    return maxn, maxi\n",
    "\n",
    "N = int(input())\n",
    "S = list(map(int, input().split()))\n",
    "maxn, maxi = solve(N, S)\n",
    "print(maxn, maxi)"
   ]
  }
 ],
 "metadata": {
  "kernelspec": {
   "display_name": "Python 3 (ipykernel)",
   "language": "python",
   "name": "python3"
  },
  "language_info": {
   "codemirror_mode": {
    "name": "ipython",
    "version": 3
   },
   "file_extension": ".py",
   "mimetype": "text/x-python",
   "name": "python",
   "nbconvert_exporter": "python",
   "pygments_lexer": "ipython3",
   "version": "3.10.9"
  }
 },
 "nbformat": 4,
 "nbformat_minor": 5
}
