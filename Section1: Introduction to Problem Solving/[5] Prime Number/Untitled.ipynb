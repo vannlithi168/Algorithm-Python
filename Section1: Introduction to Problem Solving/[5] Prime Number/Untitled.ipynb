{
 "cells": [
  {
   "cell_type": "code",
   "execution_count": 8,
   "id": "caff8766",
   "metadata": {},
   "outputs": [
    {
     "name": "stdout",
     "output_type": "stream",
     "text": [
      "5\n",
      "YES\n"
     ]
    }
   ],
   "source": [
    "def solve(n):\n",
    "    if n<= 1:\n",
    "        return False\n",
    "    for i in range(2, n):\n",
    "        if n % i ==0:\n",
    "            return False\n",
    "    return True\n",
    "N = int(input())\n",
    "print(\"YES\" if solve(N) else \"NO\")\n",
    "\n"
   ]
  },
  {
   "cell_type": "code",
   "execution_count": 4,
   "id": "dccd0617",
   "metadata": {},
   "outputs": [
    {
     "name": "stdout",
     "output_type": "stream",
     "text": [
      "21447\n",
      "NO\n",
      "solve() elapsed time: 0.00021314620971679688\n"
     ]
    }
   ],
   "source": [
    "def solve(n):\n",
    "    if n<= 1:\n",
    "        return False\n",
    "    for i in range(2, n):\n",
    "        if n % i ==0:\n",
    "            return False\n",
    "    return True\n",
    "N = int(input())\n",
    "\n",
    "\n",
    "import time\n",
    "start = time.time()\n",
    "print(\"YES\" if solve(N) else \"NO\")\n",
    "end = time.time()\n",
    "print(f'solve() elapsed time: {end-start}' )"
   ]
  },
  {
   "cell_type": "code",
   "execution_count": 9,
   "id": "92757aad",
   "metadata": {},
   "outputs": [
    {
     "name": "stdout",
     "output_type": "stream",
     "text": [
      "4294967291\n",
      "YES\n",
      "solve() elapsed time: 0.010560035705566406\n"
     ]
    }
   ],
   "source": [
    "#better solution 2\n",
    "\n",
    "def solve(n):\n",
    "    if n<= 1:\n",
    "        return False\n",
    "    for i in range(2, int(n**0.5) + 1):\n",
    "        if n%i == 0:\n",
    "            return False\n",
    "    return True\n",
    "\n",
    "N = int(input())\n",
    "import time\n",
    "start = time.time()\n",
    "print(\"YES\" if solve(N) else \"NO\")\n",
    "end = time.time()\n",
    "print(f'solve() elapsed time: {end-start}' )"
   ]
  }
 ],
 "metadata": {
  "kernelspec": {
   "display_name": "Python 3 (ipykernel)",
   "language": "python",
   "name": "python3"
  },
  "language_info": {
   "codemirror_mode": {
    "name": "ipython",
    "version": 3
   },
   "file_extension": ".py",
   "mimetype": "text/x-python",
   "name": "python",
   "nbconvert_exporter": "python",
   "pygments_lexer": "ipython3",
   "version": "3.10.9"
  }
 },
 "nbformat": 4,
 "nbformat_minor": 5
}
