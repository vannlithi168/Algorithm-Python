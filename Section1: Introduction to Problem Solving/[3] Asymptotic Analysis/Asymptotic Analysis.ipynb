{
 "cells": [
  {
   "cell_type": "code",
   "execution_count": null,
   "id": "6aee35a9",
   "metadata": {},
   "outputs": [],
   "source": [
    "def solve(N):\n",
    "    s = 0\n",
    "    for i in range(1, N + 1):\n",
    "        s += i\n",
    "    return s\n",
    "\n",
    "N = int(input())\n",
    "print(solve(N))\n"
   ]
  }
 ],
 "metadata": {
  "kernelspec": {
   "display_name": "Python 3 (ipykernel)",
   "language": "python",
   "name": "python3"
  },
  "language_info": {
   "codemirror_mode": {
    "name": "ipython",
    "version": 3
   },
   "file_extension": ".py",
   "mimetype": "text/x-python",
   "name": "python",
   "nbconvert_exporter": "python",
   "pygments_lexer": "ipython3",
   "version": "3.10.9"
  }
 },
 "nbformat": 4,
 "nbformat_minor": 5
}
