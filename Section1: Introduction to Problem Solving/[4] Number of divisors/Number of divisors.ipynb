{
 "cells": [
  {
   "cell_type": "code",
   "execution_count": null,
   "id": "1403db8e",
   "metadata": {},
   "outputs": [],
   "source": [
    "def solve(N, S):\n",
    "    maxn, maxi = S[0], 0\n",
    "    for i in range(1, N):\n",
    "        if maxn < S[i]:\n",
    "            maxn, maxi = S[i], i\n",
    "    return maxn, maxi\n",
    "\n",
    "N = int(input())\n",
    "S = list(map(int, input().split()))\n",
    "maxn, maxi = solve(N, S)\n",
    "print(maxn, maxi)"
   ]
  },
  {
   "cell_type": "code",
   "execution_count": 1,
   "id": "a24ed627",
   "metadata": {},
   "outputs": [
    {
     "name": "stdout",
     "output_type": "stream",
     "text": [
      "Enter number:81\n",
      "Counting number ramainder 0: 5\n",
      "solve() elapsed time: 0.0002980232238769531\n"
     ]
    }
   ],
   "source": [
    "#find a number of divisors of a positive integer N involves counting \n",
    "#the numbers for which the remainder is 0 when dividing N by all integers\n",
    "#from 1 to N sequentially\n",
    "import time\n",
    "def solve(n):\n",
    "    cnt = 0\n",
    "    for i in range(1, n+1):\n",
    "        if n % i == 0:\n",
    "            cnt += 1\n",
    "    return cnt\n",
    "\n",
    "N = int(input(\"Enter number:\"))\n",
    "start = time.time()\n",
    "print(\"Counting number ramainder 0:\",solve(N))\n",
    "end = time.time()\n",
    "print(f'solve() elapsed time: {end - start}')"
   ]
  },
  {
   "cell_type": "code",
   "execution_count": 2,
   "id": "3e8d5cf9",
   "metadata": {},
   "outputs": [
    {
     "name": "stdout",
     "output_type": "stream",
     "text": [
      "123456789012345\n",
      "32\n",
      "solve() elapsed time: 0.4157419204711914\n"
     ]
    }
   ],
   "source": [
    "#better solution2\n",
    "import time\n",
    "\n",
    "def solve(n):\n",
    "    cnt = 0\n",
    "    sqrtn = int(n**0.5)\n",
    "    for i in range(1, sqrtn + 1):\n",
    "        if n % i == 0:\n",
    "            cnt += 2\n",
    "    if sqrtn * sqrtn ==n:\n",
    "        cnt -= 1\n",
    "    return cnt\n",
    "\n",
    "N = int(input())\n",
    "\n",
    "start = time.time()\n",
    "print(solve(N))\n",
    "end = time.time()\n",
    "print(f'solve() elapsed time: {end - start}')\n"
   ]
  }
 ],
 "metadata": {
  "kernelspec": {
   "display_name": "Python 3 (ipykernel)",
   "language": "python",
   "name": "python3"
  },
  "language_info": {
   "codemirror_mode": {
    "name": "ipython",
    "version": 3
   },
   "file_extension": ".py",
   "mimetype": "text/x-python",
   "name": "python",
   "nbconvert_exporter": "python",
   "pygments_lexer": "ipython3",
   "version": "3.10.9"
  }
 },
 "nbformat": 4,
 "nbformat_minor": 5
}
